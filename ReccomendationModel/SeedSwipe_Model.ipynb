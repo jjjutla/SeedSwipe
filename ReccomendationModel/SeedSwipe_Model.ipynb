{
 "cells": [
  {
   "cell_type": "code",
   "execution_count": 76,
   "metadata": {},
   "outputs": [],
   "source": [
    "from datetime import datetime\n",
    "import pandas as pd\n",
    "import numpy as np\n",
    "import seaborn as sns\n",
    "sns.set_style(\"whitegrid\")\n",
    "import os\n",
    "import random\n",
    "import matplotlib\n",
    "import matplotlib.pyplot as plt\n",
    "from scipy import sparse\n",
    "from sklearn.metrics.pairwise import cosine_similarity\n",
    "from sklearn.metrics import mean_squared_error\n",
    "import xgboost as xgb\n",
    "from surprise import Reader, Dataset\n",
    "from surprise import BaselineOnly\n",
    "from surprise import KNNBaseline\n",
    "from surprise import SVD\n",
    "from surprise import SVDpp\n",
    "from surprise.model_selection import GridSearchCV"
   ]
  },
  {
   "cell_type": "markdown",
   "metadata": {},
   "source": [
    "## 1. Reading and Storing Data"
   ]
  },
  {
   "cell_type": "markdown",
   "metadata": {},
   "source": [
    "### Data Pre-processing"
   ]
  },
  {
   "cell_type": "code",
   "execution_count": 14,
   "metadata": {},
   "outputs": [
    {
     "name": "stdout",
     "output_type": "stream",
     "text": [
      "Reading from file: ../Data/combined_data_2.txt...\n",
      "Reading of file: ../Data/combined_data_2.txt is completed\n",
      "\n",
      "Reading from file: ../Data/combined_data_4.txt...\n",
      "Reading of file: ../Data/combined_data_4.txt is completed\n",
      "\n",
      "Total time taken for execution of this code = 0:03:48.924208\n"
     ]
    }
   ],
   "source": [
    "if not os.path.isfile(\"../Data/CrunchbaseRatings.csv\"): \n",
    "#This line: \"os.path.isfile(\"../Data/CrunchbaseRatings.csv\")\" simply checks that is there a file with the name \"CrunchbaseRatings.csv\" in the \n",
    "#in the folder \"/Data/\". If the file is present then it return true else false\n",
    "    startTime = datetime.now()\n",
    "    data = open(\"../Data/CrunchbaseRatings.csv\", mode = \"w\") #this line simply creates the file with the name \"CrunchbaseRatings.csv\" in \n",
    "    #write mode in the folder \"Data\".\n",
    "#     files = ['../Data/combined_data_1.txt','../Data/combined_data_2.txt', '../Data/combined_data_3.txt', '../Data/combined_data_4.txt']\n",
    "    files = ['../Data/combined_data_2.txt', '../Data/combined_data_4.txt']\n",
    "    for file in files:\n",
    "        print(\"Reading from file: \"+str(file)+\"...\")\n",
    "        with open(file) as f:  #you can think of this command \"with open(file) as f\" as similar to 'if' statement or a sort of \n",
    "            #loop statement. This command says that as long as this file is opened, perform the underneath operation.\n",
    "            for line in f:\n",
    "                line = line.strip() #line.strip() clears all the leading and trailing spaces from the string, as here each line\n",
    "                #that I am reading from a file is a string.\n",
    "                #Note first line consist of a startup id followed by a semi-colon, then second line contains investorID,rating,date\n",
    "                #then third line agains contains investorID,rating,date which belong to that startup ID and so on.\n",
    "                if line.endswith(\":\"):\n",
    "                    startupID = line.replace(\":\", \"\") #this will remove the trailing semi-colon and return us the leading startup ID.\n",
    "                else:\n",
    "                    row = [] \n",
    "                    row = [x for x in line.split(\",\")] #startupID, rating and date are separated by comma\n",
    "                    row.insert(0, startupID)\n",
    "                    data.write(\",\".join(row))\n",
    "                    data.write(\"\\n\")\n",
    "        print(\"Reading of file: \"+str(file)+\" is completed\\n\")\n",
    "    data.close()\n",
    "    print(\"Total time taken for execution of this code = \"+str(datetime.now() - startTime))"
   ]
  },
  {
   "cell_type": "code",
   "execution_count": 15,
   "metadata": {},
   "outputs": [
    {
     "name": "stdout",
     "output_type": "stream",
     "text": [
      "Time taken for execution of above code = 0:01:11.269949\n"
     ]
    }
   ],
   "source": [
    "# creating data frame from our output csv file.\n",
    "if not os.path.isfile(\"../Data/CrunchbaseData.pkl\"):\n",
    "    startTime = datetime.now()\n",
    "    Final_Data = pd.read_csv(\"../Data/CrunchbaseRatings.csv\", sep=\",\", names = [\"startupID\",\"investorID\", \"Ratings\", \"Date\"])\n",
    "    Final_Data[\"Date\"] = pd.to_datetime(Final_Data[\"Date\"])\n",
    "    Final_Data.sort_values(by = \"Date\", inplace = True)\n",
    "    print(\"Time taken for execution of above code = \"+str(datetime.now() - startTime))"
   ]
  },
  {
   "cell_type": "code",
   "execution_count": 16,
   "metadata": {},
   "outputs": [],
   "source": [
    "# storing pandas dataframe as a picklefile for later use\n",
    "if not os.path.isfile(\"../Data/CrunchbaseData.pkl\"):\n",
    "    Final_Data.to_pickle(\"../Data/CrunchbaseData.pkl\")\n",
    "else:\n",
    "    Final_Data = pd.read_pickle(\"../Data/CrunchbaseData.pkl\")"
   ]
  },
  {
   "cell_type": "code",
   "execution_count": 18,
   "metadata": {},
   "outputs": [
    {
     "data": {
      "text/plain": [
       "count    5.382511e+07\n",
       "mean     3.606058e+00\n",
       "std      1.082326e+00\n",
       "min      1.000000e+00\n",
       "25%      3.000000e+00\n",
       "50%      4.000000e+00\n",
       "75%      4.000000e+00\n",
       "max      5.000000e+00\n",
       "Name: Ratings, dtype: float64"
      ]
     },
     "execution_count": 18,
     "metadata": {},
     "output_type": "execute_result"
    }
   ],
   "source": [
    "Final_Data.describe()[\"Ratings\"]"
   ]
  },
  {
   "cell_type": "markdown",
   "metadata": {},
   "source": [
    "### Checking for NaN"
   ]
  },
  {
   "cell_type": "code",
   "execution_count": null,
   "metadata": {},
   "outputs": [],
   "source": [
    "print(\"Number of NaN values = \"+str(Final_Data.isnull().sum()))"
   ]
  },
  {
   "cell_type": "markdown",
   "metadata": {},
   "source": [
    "### Removing Duplicates"
   ]
  },
  {
   "cell_type": "code",
   "execution_count": 20,
   "metadata": {},
   "outputs": [
    {
     "name": "stdout",
     "output_type": "stream",
     "text": [
      "Number of duplicate rows = 0\n"
     ]
    }
   ],
   "source": [
    "duplicates = Final_Data.duplicated([\"startupID\",\"investorID\", \"Ratings\"])\n",
    "print(\"Number of duplicate rows = \"+str(duplicates.sum()))"
   ]
  },
  {
   "cell_type": "markdown",
   "metadata": {},
   "source": [
    "### Basic Statistics"
   ]
  },
  {
   "cell_type": "code",
   "execution_count": null,
   "metadata": {},
   "outputs": [],
   "source": [
    "print(\"Total Data:\")\n",
    "print(\"Total number of startup ratings = \"+str(Final_Data.shape[0]))\n",
    "print(\"Number of unique investors = \"+str(len(np.unique(Final_Data[\"investorID\"]))))\n",
    "print(\"Number of unique startups = \"+str(len(np.unique(Final_Data[\"startupID\"]))))"
   ]
  },
  {
   "cell_type": "markdown",
   "metadata": {},
   "source": [
    "### Spliting data into Train and Test (80:20)"
   ]
  },
  {
   "cell_type": "code",
   "execution_count": 2,
   "metadata": {},
   "outputs": [],
   "source": [
    "if not os.path.isfile(\"../Data/TrainData.pkl\"):\n",
    "    Final_Data.iloc[:int(Final_Data.shape[0]*0.80)].to_pickle(\"../Data/TrainData.pkl\")\n",
    "    Train_Data = pd.read_pickle(\"../Data/TrainData.pkl\")\n",
    "    Train_Data.reset_index(drop = True, inplace = True)\n",
    "else:\n",
    "    Train_Data = pd.read_pickle(\"../Data/TrainData.pkl\")\n",
    "    Train_Data.reset_index(drop = True, inplace = True)\n",
    "\n",
    "if not os.path.isfile(\"../Data/TestData.pkl\"):\n",
    "    Final_Data.iloc[int(Final_Data.shape[0]*0.80):].to_pickle(\"../Data/TestData.pkl\")\n",
    "    Test_Data = pd.read_pickle(\"../Data/TestData.pkl\")\n",
    "    Test_Data.reset_index(drop = True, inplace = True)\n",
    "else:\n",
    "    Test_Data = pd.read_pickle(\"../Data/TestData.pkl\")\n",
    "    Test_Data.reset_index(drop = True, inplace = True)"
   ]
  },
  {
   "cell_type": "markdown",
   "metadata": {},
   "source": [
    "## 2. Exploratory Data Analysis on Train Data"
   ]
  },
  {
   "cell_type": "code",
   "execution_count": 7,
   "metadata": {},
   "outputs": [],
   "source": [
    "def changingLabels(number):\n",
    "    return str(number/10**6) + \"M\""
   ]
  },
  {
   "cell_type": "code",
   "execution_count": 115,
   "metadata": {},
   "outputs": [
    {
     "data": {
      "image/png": "[encoded data removed]",
      "text/plain": [
       "<Figure size 864x576 with 1 Axes>"
      ]
     },
     "metadata": {},
     "output_type": "display_data"
    }
   ],
   "source": [
    "plt.figure(figsize = (12, 8))\n",
    "ax = sns.countplot(x=\"Ratings\", data=Train_Data)\n",
    "\n",
    "ax.set_yticklabels([changingLabels(num) for num in ax.get_yticks()])\n",
    "\n",
    "plt.tick_params(labelsize = 15)\n",
    "plt.title(\"Distribution of Ratings in train data\", fontsize = 20)\n",
    "plt.xlabel(\"Ratings\", fontsize = 20)\n",
    "plt.ylabel(\"Number of Ratings(Millions)\", fontsize = 20)\n",
    "plt.show()"
   ]
  },
  {
   "cell_type": "code",
   "execution_count": 10,
   "metadata": {},
   "outputs": [],
   "source": [
    "Train_Data[\"DayOfWeek\"] = Train_Data.Date.dt.weekday_name"
   ]
  },
  {
   "cell_type": "code",
   "execution_count": 161,
   "metadata": {},
   "outputs": [],
   "source": [
    "quantiles = no_of_rated_startups_per_investor.quantile(np.arange(0,1.01,0.01))"
   ]
  },
  {
   "cell_type": "markdown",
   "metadata": {},
   "source": [
    "### Analysis of Ratings Per Startup\n"
   ]
  },
  {
   "cell_type": "code",
   "execution_count": 234,
   "metadata": {},
   "outputs": [],
   "source": [
    "no_of_ratings_per_startup = Train_Data.groupby(by = \"startupID\")[\"Ratings\"].count().sort_values(ascending = False)"
   ]
  },
  {
   "cell_type": "code",
   "execution_count": null,
   "metadata": {},
   "outputs": [],
   "source": [
    "fig = plt.figure(figsize = (12, 6))\n",
    "axes = fig.add_axes([0.1,0.1,1,1])\n",
    "plt.title(\"Number of Ratings Per startup\", fontsize = 20)\n",
    "plt.xlabel(\"startup\", fontsize = 20)\n",
    "plt.ylabel(\"Count of Ratings\", fontsize = 20)\n",
    "plt.plot(no_of_ratings_per_startup.values)\n",
    "plt.tick_params(labelsize = 15)\n",
    "axes.set_xticklabels([])\n",
    "plt.show()"
   ]
  },
  {
   "cell_type": "markdown",
   "metadata": {},
   "source": [
    "## 3. Creating investor-item sparse matrix from data frame"
   ]
  },
  {
   "cell_type": "code",
   "execution_count": 3,
   "metadata": {},
   "outputs": [
    {
     "name": "stdout",
     "output_type": "stream",
     "text": [
      "Creating USER_ITEM sparse matrix for train Data\n",
      "Sparse Data is already present in your disk, no need to create further. Loading Sparse Matrix\n",
      "Shape of Train Sparse matrix = (2649430, 17771)\n",
      "0:00:02.746893\n"
     ]
    }
   ],
   "source": [
    "startTime = datetime.now()\n",
    "print(\"Creating investor_ITEM sparse matrix for train Data\")\n",
    "if os.path.isfile(\"../Data/TrainUISparseData.npz\"):\n",
    "    print(\"Sparse Data is already present in your disk, no need to create further. Loading Sparse Matrix\")\n",
    "    TrainUISparseData = sparse.load_npz(\"../Data/TrainUISparseData.npz\")\n",
    "    print(\"Shape of Train Sparse matrix = \"+str(TrainUISparseData.shape))\n",
    "    \n",
    "else:\n",
    "    print(\"We are creating sparse data\")\n",
    "    TrainUISparseData = sparse.csr_matrix((Train_Data.Ratings, (Train_Data.investorID, Train_Data.startupID)))\n",
    "    print(\"Creation done. Shape of sparse matrix = \"+str(TrainUISparseData.shape))\n",
    "    print(\"Saving it into disk for furthur usage.\")\n",
    "    sparse.save_npz(\"../Data/TrainUISparseData.npz\", TrainUISparseData)\n",
    "    print(\"Done\\n\")\n",
    "\n",
    "print(datetime.now() - startTime)"
   ]
  },
  {
   "cell_type": "code",
   "execution_count": 4,
   "metadata": {},
   "outputs": [
    {
     "name": "stdout",
     "output_type": "stream",
     "text": [
      "Creating USER_ITEM sparse matrix for test Data\n",
      "Sparse Data is already present in your disk, no need to create further. Loading Sparse Matrix\n",
      "Shape of Test Sparse Matrix = (2649430, 17771)\n",
      "0:00:00.979906\n"
     ]
    }
   ],
   "source": [
    "startTime = datetime.now()\n",
    "print(\"Creating investor_ITEM sparse matrix for test Data\")\n",
    "if os.path.isfile(\"../Data/TestUISparseData.npz\"):\n",
    "    print(\"Sparse Data is already present in your disk, no need to create further. Loading Sparse Matrix\")\n",
    "    TestUISparseData = sparse.load_npz(\"../Data/TestUISparseData.npz\")\n",
    "    print(\"Shape of Test Sparse Matrix = \"+str(TestUISparseData.shape))\n",
    "else:\n",
    "    print(\"We are creating sparse data\")\n",
    "    TestUISparseData = sparse.csr_matrix((Test_Data.Ratings, (Test_Data.investorID, Test_Data.startupID)))\n",
    "    print(\"Creation done. Shape of sparse matrix = \"+str(TestUISparseData.shape))\n",
    "    print(\"Saving it into disk for furthur usage.\")\n",
    "    sparse.save_npz(\"../Data/TestUISparseData.npz\", TestUISparseData)\n",
    "    print(\"Done\\n\")\n",
    "\n",
    "print(datetime.now() - startTime)"
   ]
  },
  {
   "cell_type": "code",
   "execution_count": 26,
   "metadata": {},
   "outputs": [
    {
     "name": "stdout",
     "output_type": "stream",
     "text": [
      "Sparsity Of Train matrix : 99.90854433187319% \n"
     ]
    }
   ],
   "source": [
    "rows,cols = TrainUISparseData.shape\n",
    "presentElements = TrainUISparseData.count_nonzero()\n",
    "\n",
    "print(\"Sparsity Of Train matrix : {}% \".format((1-(presentElements/(rows*cols)))*100))"
   ]
  },
  {
   "cell_type": "code",
   "execution_count": 27,
   "metadata": {},
   "outputs": [
    {
     "name": "stdout",
     "output_type": "stream",
     "text": [
      "Sparsity Of Test matrix : 99.97713608243731% \n"
     ]
    }
   ],
   "source": [
    "rows,cols = TestUISparseData.shape\n",
    "presentElements = TestUISparseData.count_nonzero()\n",
    "\n",
    "print(\"Sparsity Of Test matrix : {}% \".format((1-(presentElements/(rows*cols)))*100))"
   ]
  },
  {
   "cell_type": "markdown",
   "metadata": {},
   "source": [
    "### Finding Global average of all startup ratings, Average rating per investor, and Average rating per startup"
   ]
  },
  {
   "cell_type": "code",
   "execution_count": 5,
   "metadata": {},
   "outputs": [],
   "source": [
    "def getAverageRatings(sparseMatrix, if_investor):\n",
    "    ax = 1 if if_investor else 0\n",
    "    #axis = 1 means rows and axis = 0 means columns \n",
    "    sumOfRatings = sparseMatrix.sum(axis = ax).A1  #this will give an array of sum of all the ratings of investor if axis = 1 else \n",
    "    #sum of all the ratings of startups if axis = 0\n",
    "    noOfRatings = (sparseMatrix!=0).sum(axis = ax).A1  #this will give a boolean True or False array, and True means 1 and False \n",
    "    #means 0, and further we are summing it to get the count of all the non-zero cells means length of non-zero cells\n",
    "    rows, cols = sparseMatrix.shape\n",
    "    averageRatings = {i: sumOfRatings[i]/noOfRatings[i] for i in range(rows if if_investor else cols) if noOfRatings[i]!=0}\n",
    "    return averageRatings"
   ]
  },
  {
   "cell_type": "code",
   "execution_count": 57,
   "metadata": {},
   "outputs": [
    {
     "name": "stdout",
     "output_type": "stream",
     "text": [
      "Global Average Rating 3.5844935859517806\n"
     ]
    }
   ],
   "source": [
    "Global_Average_Rating = TrainUISparseData.sum()/TrainUISparseData.count_nonzero()\n",
    "print(\"Global Average Rating {}\".format(Global_Average_Rating))"
   ]
  },
  {
   "cell_type": "code",
   "execution_count": 58,
   "metadata": {},
   "outputs": [],
   "source": [
    "AvgRatinginvestor = getAverageRatings(TrainUISparseData, True)"
   ]
  },
  {
   "cell_type": "code",
   "execution_count": 62,
   "metadata": {},
   "outputs": [
    {
     "name": "stdout",
     "output_type": "stream",
     "text": [
      "Average rating of user 25 = 3.0\n"
     ]
    }
   ],
   "source": [
    "print(\"Average rating of investor 25 = {}\".format(AvgRatinginvestor[25]))"
   ]
  },
  {
   "cell_type": "code",
   "execution_count": 63,
   "metadata": {},
   "outputs": [],
   "source": [
    "AvgRatingstartup = getAverageRatings(TrainUISparseData, False)"
   ]
  },
  {
   "cell_type": "code",
   "execution_count": null,
   "metadata": {},
   "outputs": [],
   "source": [
    "fig, axes = plt.subplots(nrows = 1, ncols = 2, figsize = (16, 7))\n",
    "fig.suptitle('Avg Ratings per investor and per startup', fontsize=25)\n",
    "\n",
    "investor_average = [rats for rats in AvgRatinginvestor.values()]\n",
    "sns.distplot(investor_average, hist = False, ax = axes[0], label = \"PDF\")\n",
    "sns.kdeplot(investor_average, cumulative = True, ax = axes[0], label = \"CDF\")\n",
    "axes[0].set_title(\"Average Rating Per investor\", fontsize=20)\n",
    "axes[0].tick_params(labelsize = 15)\n",
    "axes[0].legend(loc='upper left', fontsize = 17)\n",
    "\n",
    "startup_average = [ratm for ratm in AvgRatingstartup.values()]\n",
    "sns.distplot(startup_average, hist = False, ax = axes[1], label = \"PDF\")\n",
    "sns.kdeplot(startup_average, cumulative = True, ax = axes[1], label = \"CDF\")\n",
    "axes[1].set_title(\"Average Rating Per startup\", fontsize=20)\n",
    "axes[1].tick_params(labelsize = 15)\n",
    "axes[1].legend(loc='upper left', fontsize = 17)\n",
    "\n",
    "plt.subplots_adjust(wspace=0.2, top=0.85)\n",
    "plt.show()"
   ]
  },
  {
   "cell_type": "code",
   "execution_count": null,
   "metadata": {},
   "outputs": [],
   "source": [
    "total_investors = len(np.unique(Final_Data[\"investorID\"]))\n",
    "train_investors = len(AvgRatinginvestor)\n",
    "uncommoninvestors = total_investors - train_investors\n",
    "                  \n",
    "print(\"Total number of investors = {}\".format(total_investors))\n",
    "print(\"Number of investors in train data= {}\".format(train_investors))\n",
    "print(\"Number of investors not present in train data = {}({}%)\".format(uncommoninvestors, np.round((uncommoninvestors/total_investors)*100), 2))"
   ]
  },
  {
   "cell_type": "code",
   "execution_count": null,
   "metadata": {},
   "outputs": [],
   "source": [
    "total_startups = len(np.unique(Final_Data[\"startupID\"]))\n",
    "train_startups = len(AvgRatingstartup)\n",
    "uncommonstartups = total_startups - train_startups\n",
    "                  \n",
    "print(\"Total number of startups = {}\".format(total_startups))\n",
    "print(\"Number of startups in train data= {}\".format(train_startups))\n",
    "print(\"Number of startups not present in train data = {}({}%)\".format(uncommonstartups, np.round((uncommonstartups/total_startups)*100), 2))"
   ]
  },
  {
   "cell_type": "markdown",
   "metadata": {},
   "source": [
    "## 4. Computing Similarity Matrices"
   ]
  },
  {
   "cell_type": "markdown",
   "metadata": {},
   "source": [
    "### Computing Investor-Investor Similarity Matrix"
   ]
  },
  {
   "cell_type": "code",
   "execution_count": 293,
   "metadata": {},
   "outputs": [
    {
     "name": "stdout",
     "output_type": "stream",
     "text": [
      "6\n",
      "7\n",
      "10\n",
      "25\n",
      "33\n",
      "42\n",
      "59\n",
      "79\n",
      "83\n",
      "87\n",
      "94\n",
      "97\n",
      "131\n",
      "134\n",
      "142\n",
      "149\n",
      "158\n",
      "168\n",
      "169\n",
      "178\n",
      "183\n",
      "188\n",
      "189\n",
      "192\n",
      "195\n",
      "199\n",
      "201\n",
      "242\n",
      "247\n",
      "248\n",
      "261\n",
      "265\n",
      "266\n",
      "267\n",
      "268\n",
      "283\n",
      "291\n",
      "296\n",
      "298\n",
      "299\n",
      "301\n",
      "302\n",
      "304\n",
      "305\n",
      "307\n",
      "308\n",
      "310\n",
      "312\n",
      "314\n",
      "330\n",
      "331\n",
      "333\n",
      "352\n",
      "363\n",
      "368\n",
      "369\n",
      "379\n",
      "383\n",
      "384\n",
      "385\n",
      "392\n",
      "413\n",
      "416\n",
      "424\n",
      "437\n",
      "439\n",
      "440\n",
      "442\n",
      "453\n",
      "462\n",
      "470\n",
      "471\n",
      "477\n",
      "478\n",
      "479\n",
      "481\n",
      "485\n",
      "490\n",
      "491\n",
      "492\n",
      "495\n",
      "508\n",
      "515\n",
      "517\n",
      "527\n",
      "529\n",
      "536\n",
      "540\n",
      "544\n",
      "546\n",
      "550\n",
      "561\n",
      "576\n",
      "585\n",
      "592\n",
      "596\n",
      "602\n",
      "609\n",
      "614\n",
      "616\n"
     ]
    }
   ],
   "source": [
    "row_index, col_index = TrainUISparseData.nonzero()\n",
    "rows = np.unique(row_index)\n",
    "for i in rows[:100]:\n",
    "    print(i)"
   ]
  },
  {
   "cell_type": "code",
   "execution_count": 306,
   "metadata": {},
   "outputs": [],
   "source": [
    "#Here, we are calculating investor-investor similarity matrix only for first 100 investors in our sparse matrix. And we are calculating \n",
    "#top 100 most similar investors with them.\n",
    "def getinvestor_investorSimilarity(sparseMatrix, top = 100):\n",
    "    startTimestamp20 = datetime.now()  \n",
    "    \n",
    "    row_index, col_index = sparseMatrix.nonzero()  #this will give indices of rows in \"row_index\" and indices of columns in \n",
    "    #\"col_index\" where there is a non-zero value exist.\n",
    "    rows = np.unique(row_index)\n",
    "    similarMatrix = np.zeros(61700).reshape(617,100)    # 617*100 = 61700. As we are building similarity matrix only \n",
    "    #for top 100 most similar investors.\n",
    "    timeTaken = []\n",
    "    howManyDone = 0\n",
    "    for row in rows[:top]:\n",
    "        howManyDone += 1\n",
    "        startTimestamp = datetime.now().timestamp()  #it will give seconds elapsed\n",
    "        sim = cosine_similarity(sparseMatrix.getrow(row), sparseMatrix).ravel()\n",
    "        top100_similar_indices = sim.argsort()[-top:]\n",
    "        top100_similar = sim[top100_similar_indices]\n",
    "        similarMatrix[row] = top100_similar\n",
    "        timeforOne = datetime.now().timestamp() - startTimestamp\n",
    "        timeTaken.append(timeforOne)\n",
    "        if howManyDone % 20 == 0:\n",
    "            print(\"Time elapsed for {} investors = {}sec\".format(howManyDone, (datetime.now() - startTimestamp20)))\n",
    "    print(\"Average Time taken to compute similarity matrix for 1 investor = \"+str(sum(timeTaken)/len(timeTaken))+\"seconds\")\n",
    "    \n",
    "    fig = plt.figure(figsize = (12,8))\n",
    "    plt.plot(timeTaken, label = 'Time Taken For Each investor')\n",
    "    plt.plot(np.cumsum(timeTaken), label='Cumulative Time')\n",
    "    plt.legend(loc='upper left', fontsize = 15)\n",
    "    plt.xlabel('investors', fontsize = 20)\n",
    "    plt.ylabel('Time(Seconds)', fontsize = 20)\n",
    "    plt.tick_params(labelsize = 15)\n",
    "    plt.show()\n",
    "    \n",
    "    return similarMatrix"
   ]
  },
  {
   "cell_type": "markdown",
   "metadata": {},
   "source": [
    "Computation of investor-investor similarity matrix is impossible if computational power is limited. On the other hand, if we try to reduce the dimension say by truncated SVD then it would take even more time because truncated SVD creates dense matrix and amount of multiplication for creation of investor-investor similarity matrix would increase dramatically.We maintain a binary Vector for investors, which tells us whether we already computed similarity for this investor or not.\n",
    "\n",
    "Compute top (let's just say, 1000) most similar investors for this given investor, and add this to our datastructure, so that we can just access it(similar investors) without recomputing it again. If it is already computed. Just get it directly from our datastructure, which has that information. In production time, We might have to recompute similarities, if it is computed a long time ago. Because investors preferences changes over time. If we could maintain some kind of Timer, which when expires, we have to update it ( recompute it ). Which datastructure to use? - It is purely implementation dependant.\n",
    "\n",
    "One simple method is to maintain a **Dictionary Of Dictionaries**.<br><br>\n",
    "\n",
    "key    :    investorid<br>\n",
    "value  :    Again a dictionary<br>\n",
    "            key   : _Similar investorr<br>\n",
    "            value: Similarity Value>"
   ]
  },
  {
   "cell_type": "markdown",
   "metadata": {},
   "source": [
    "### Computing Startup-Startup Similarity Matrix"
   ]
  },
  {
   "cell_type": "code",
   "execution_count": 6,
   "metadata": {},
   "outputs": [
    {
     "name": "stdout",
     "output_type": "stream",
     "text": [
      "File exists in the disk. Loading the file...\n",
      "Dimension of Matrix = (17771, 17771)\n",
      "0:00:09.533895\n"
     ]
    }
   ],
   "source": [
    "start = datetime.now()\n",
    "\n",
    "if not os.path.isfile(\"../Data/m_m_similarity.npz\"):\n",
    "    print(\"startup-startup Similarity file does not exist in your disk. Creating startup-startup Similarity Matrix...\")\n",
    "    \n",
    "    m_m_similarity = cosine_similarity(TrainUISparseData.T, dense_output = False)\n",
    "    print(\"Done\")\n",
    "    print(\"Dimension of Matrix = {}\".format(m_m_similarity.shape))\n",
    "    print(\"Storing the startup Similarity matrix on disk for further usage\")\n",
    "    sparse.save_npz(\"../Data/m_m_similarity.npz\", m_m_similarity)\n",
    "else:\n",
    "    print(\"File exists in the disk. Loading the file...\")\n",
    "    m_m_similarity = sparse.load_npz(\"../Data/m_m_similarity.npz\")\n",
    "    print(\"Dimension of Matrix = {}\".format(m_m_similarity.shape))\n",
    "    \n",
    "print(datetime.now() - start)"
   ]
  },
  {
   "cell_type": "markdown",
   "metadata": {},
   "source": [
    "### Does Startup-Startup Similarity Work?\n",
    "### Let's pick random startup and check it's top 10 investors and see if they are similar"
   ]
  },
  {
   "cell_type": "code",
   "execution_count": 46,
   "metadata": {},
   "outputs": [],
   "source": [
    "startup_ids = np.unique(m_m_similarity.nonzero())"
   ]
  },
  {
   "cell_type": "code",
   "execution_count": 52,
   "metadata": {},
   "outputs": [],
   "source": [
    "similar_startups_dict = dict()\n",
    "for startup in startup_ids:\n",
    "    smlr = np.argsort(-m_m_similarity[startup].toarray().ravel())[1:100]\n",
    "    similar_startups_dict[startup] = smlr"
   ]
  },
  {
   "cell_type": "code",
   "execution_count": 54,
   "metadata": {},
   "outputs": [],
   "source": [
    "startup_titles_df = pd.read_csv(\"../Data/startup_titles.csv\",sep = \",\", header = None, names=['startupID', 'Year_of_Release', 'startup_Title'], index_col = \"startupID\", encoding = \"iso8859_2\")"
   ]
  },
  {
   "cell_type": "code",
   "execution_count": null,
   "metadata": {},
   "outputs": [],
   "source": [
    "startup_titles_df.head()"
   ]
  },
  {
   "cell_type": "code",
   "execution_count": null,
   "metadata": {},
   "outputs": [],
   "source": [
    "startupID_GR = 17765\n",
    "\n",
    "print(\"Name of the startup -------> \"+str(startup_titles_df.loc[startupID_GR][1]))\n",
    "\n",
    "print(\"Number of ratings by investors for startup {} is {}\".format(startup_titles_df.loc[startupID_GR][1], TrainUISparseData[:,startupID_GR].getnnz()))\n",
    "\n",
    "print(\"Number of similar startups to {} is {}\".format(startup_titles_df.loc[startupID_GR][1], m_m_similarity[startupID_GR].count_nonzero()))"
   ]
  },
  {
   "cell_type": "code",
   "execution_count": 111,
   "metadata": {},
   "outputs": [],
   "source": [
    "all_similar = sorted(m_m_similarity[startupID_GR].toarray().ravel(), reverse = True)[1:]\n",
    "\n",
    "similar_100 = all_similar[:101]"
   ]
  },
  {
   "cell_type": "code",
   "execution_count": null,
   "metadata": {},
   "outputs": [],
   "source": [
    "plt.figure(figsize = (10, 8))\n",
    "plt.plot(all_similar, label = \"All Similar\")\n",
    "plt.plot(similar_100, label = \"Top 100 Similar startups\")\n",
    "plt.title(\"Similar startups to Godzilla's Revenge\", fontsize = 25)\n",
    "plt.ylabel(\"Cosine Similarity Values\", fontsize = 20)\n",
    "plt.tick_params(labelsize = 15)\n",
    "plt.legend(fontsize = 20)\n",
    "plt.show()"
   ]
  },
  {
   "cell_type": "code",
   "execution_count": null,
   "metadata": {},
   "outputs": [],
   "source": [
    "startup_titles_df.loc[similar_startups_dict[startupID_GR][:10]]"
   ]
  },
  {
   "cell_type": "markdown",
   "metadata": {},
   "source": [
    "## 5. Machine Learning Models"
   ]
  },
  {
   "cell_type": "code",
   "execution_count": 26,
   "metadata": {},
   "outputs": [],
   "source": [
    "def get_sample_sparse_matrix(sparseMatrix, n_investors, n_startups):\n",
    "    startTime = datetime.now()\n",
    "    investors, startups, ratings = sparse.find(sparseMatrix)\n",
    "    uniq_investors = np.unique(investors)\n",
    "    uniq_startups = np.unique(startups)\n",
    "    np.random.seed(15)   #this will give same random number everytime, without replacement\n",
    "    investorS = np.random.choice(uniq_investors, n_investors, replace = False)\n",
    "    startupS = np.random.choice(uniq_startups, n_startups, replace = False)\n",
    "    mask = np.logical_and(np.isin(investors, investorS), np.isin(startups, startupS))\n",
    "    sparse_sample = sparse.csr_matrix((ratings[mask], (investors[mask], startups[mask])), \n",
    "                                                     shape = (max(investorS)+1, max(startupS)+1))\n",
    "    print(\"Sparse Matrix creation done. Saving it for later use.\")\n",
    "    sparse.save_npz(path, sparse_sample)\n",
    "    print(\"Done\")\n",
    "    print(\"Shape of Sparse Sampled Matrix = \"+str(sparse_sample.shape))\n",
    "    \n",
    "    print(datetime.now() - start)\n",
    "    return sparse_sample"
   ]
  },
  {
   "cell_type": "markdown",
   "metadata": {},
   "source": [
    "### Creating Sample Sparse Matrix for Train Data"
   ]
  },
  {
   "cell_type": "code",
   "execution_count": 7,
   "metadata": {},
   "outputs": [
    {
     "name": "stdout",
     "output_type": "stream",
     "text": [
      "File is already present in the disk. Loading the file...\n",
      "File loading done.\n",
      "Shape of Train Sample Sparse Matrix = (2649117, 17764)\n"
     ]
    }
   ],
   "source": [
    "path = \"../Data/TrainUISparseData_Sample.npz\"\n",
    "if not os.path.isfile(path):\n",
    "    print(\"Sample sparse matrix is not present in the disk. We are creating it...\")\n",
    "    train_sample_sparse = get_sample_sparse_matrix(TrainUISparseData, 4000, 400)\n",
    "else:\n",
    "    print(\"File is already present in the disk. Loading the file...\")\n",
    "    train_sample_sparse = sparse.load_npz(path)\n",
    "    print(\"File loading done.\")\n",
    "    print(\"Shape of Train Sample Sparse Matrix = \"+str(train_sample_sparse.shape))"
   ]
  },
  {
   "cell_type": "markdown",
   "metadata": {},
   "source": [
    "### Creating Sample Sparse Matrix for Test Data"
   ]
  },
  {
   "cell_type": "code",
   "execution_count": 8,
   "metadata": {},
   "outputs": [
    {
     "name": "stdout",
     "output_type": "stream",
     "text": [
      "File is already present in the disk. Loading the file...\n",
      "File loading done.\n",
      "Shape of Test Sample Sparse Matrix = (2647588, 17689)\n"
     ]
    }
   ],
   "source": [
    "path = \"../Data/TestUISparseData_Sample.npz\"\n",
    "if not os.path.isfile(path):\n",
    "    print(\"Sample sparse matrix is not present in the disk. We are creating it...\")\n",
    "    test_sample_sparse = get_sample_sparse_matrix(TestUISparseData, 2000, 200)\n",
    "else:\n",
    "    print(\"File is already present in the disk. Loading the file...\")\n",
    "    test_sample_sparse = sparse.load_npz(path)\n",
    "    print(\"File loading done.\")\n",
    "    print(\"Shape of Test Sample Sparse Matrix = \"+str(test_sample_sparse.shape))"
   ]
  },
  {
   "cell_type": "markdown",
   "metadata": {},
   "source": [
    "### Finding Global Average of all startup ratings, Average rating per Investor, and Average rating per Startup (from sampled train)"
   ]
  },
  {
   "cell_type": "markdown",
   "metadata": {},
   "source": [
    "### Finding Average of all startup ratings"
   ]
  },
  {
   "cell_type": "markdown",
   "metadata": {},
   "source": [
    "### Finding Average rating per Investor\n"
   ]
  },
  {
   "cell_type": "code",
   "execution_count": 122,
   "metadata": {},
   "outputs": [
    {
     "name": "stdout",
     "output_type": "stream",
     "text": [
      "Average user rating for user 16879 is 3.738095238095238\n"
     ]
    }
   ],
   "source": [
    "globalAvginvestors = getAverageRatings(train_sample_sparse, True)\n",
    "print(\"Average investor rating for investor 16879 is {}\".format(globalAvgstartups[16879]))"
   ]
  },
  {
   "cell_type": "markdown",
   "metadata": {},
   "source": [
    "### Featurizing data"
   ]
  },
  {
   "cell_type": "code",
   "execution_count": 10,
   "metadata": {},
   "outputs": [
    {
     "name": "stdout",
     "output_type": "stream",
     "text": [
      "No of ratings in Our Sampled train matrix is : 19214\n",
      "No of ratings in Our Sampled test matrix is : 1150\n"
     ]
    }
   ],
   "source": [
    "print(\"No of ratings in Our Sampled train matrix is : {}\".format(train_sample_sparse.count_nonzero()))\n",
    "print(\"No of ratings in Our Sampled test matrix is : {}\".format(test_sample_sparse.count_nonzero()))"
   ]
  },
  {
   "cell_type": "markdown",
   "metadata": {},
   "source": [
    "### Featurizing data for regression problem"
   ]
  },
  {
   "cell_type": "markdown",
   "metadata": {},
   "source": [
    "### Featurizing Train Data"
   ]
  },
  {
   "cell_type": "code",
   "execution_count": 210,
   "metadata": {},
   "outputs": [],
   "source": [
    "sample_train_investors, sample_train_startups, sample_train_ratings = sparse.find(train_sample_sparse)"
   ]
  },
  {
   "cell_type": "code",
   "execution_count": 280,
   "metadata": {},
   "outputs": [
    {
     "name": "stdout",
     "output_type": "stream",
     "text": [
      "Preparing Train csv file for 19214 rows\n",
      "Done for 2000. Time elapsed: 0:14:17.429226\n",
      "Done for 4000. Time elapsed: 0:25:51.882984\n",
      "Done for 6000. Time elapsed: 0:37:21.039996\n",
      "Done for 8000. Time elapsed: 0:49:03.121577\n",
      "Done for 10000. Time elapsed: 1:00:25.030957\n",
      "Done for 12000. Time elapsed: 1:11:50.660054\n",
      "Done for 14000. Time elapsed: 1:24:15.366893\n",
      "Done for 16000. Time elapsed: 1:36:31.156832\n",
      "Done for 18000. Time elapsed: 1:48:18.891065\n",
      "Total Time for 19214 rows = 1:55:33.782934\n"
     ]
    }
   ],
   "source": [
    "if os.path.isfile(\"../Data/Train_Regression.csv\"):\n",
    "    print(\"File is already present in your disk. You do not have to prepare it again.\")\n",
    "else:\n",
    "    startTime = datetime.now()\n",
    "    print(\"Preparing Train csv file for {} rows\".format(len(sample_train_ratings)))\n",
    "    with open(\"../Data/Train_Regression.csv\", mode = \"w\") as data:\n",
    "        count = 0\n",
    "        for investor, startup, rating in zip(sample_train_investors, sample_train_startups, sample_train_ratings):\n",
    "            row = list()\n",
    "            row.append(investor)  #appending investor ID\n",
    "            row.append(startup) #appending startup ID\n",
    "            row.append(train_sample_sparse.sum()/train_sample_sparse.count_nonzero()) #appending global average rating\n",
    "\n",
    "#----------------------------------Ratings given to \"startup\" by top 5 similar investors with \"investor\"--------------------#\n",
    "            similar_investors = cosine_similarity(train_sample_sparse[investor], train_sample_sparse).ravel()\n",
    "            similar_investors_indices = np.argsort(-similar_investors)[1:]\n",
    "            similar_investors_ratings = train_sample_sparse[similar_investors_indices, startup].toarray().ravel()\n",
    "            top_similar_investor_ratings = list(similar_investors_ratings[similar_investors_ratings != 0][:5])\n",
    "            top_similar_investor_ratings.extend([globalAvgstartups[startup]]*(5-len(top_similar_investor_ratings)))\n",
    "            #above line means that if top 5 ratings are not available then rest of the ratings will be filled by \"startup\" average\n",
    "            #rating. Let say only 3 out of 5 ratings are available then rest 2 will be \"startup\" average rating.\n",
    "            row.extend(top_similar_investor_ratings)\n",
    "            \n",
    " #----------------------------------Ratings given by \"investor\" to top 5 similar startups with \"startup\"------------------#\n",
    "            similar_startups = cosine_similarity(train_sample_sparse[:,startup].T, train_sample_sparse.T).ravel()\n",
    "            similar_startups_indices = np.argsort(-similar_startups)[1:]\n",
    "            similar_startups_ratings = train_sample_sparse[investor, similar_startups_indices].toarray().ravel()\n",
    "            top_similar_startup_ratings = list(similar_startups_ratings[similar_startups_ratings != 0][:5])\n",
    "            top_similar_startup_ratings.extend([globalAvginvestors[investor]]*(5-len(top_similar_startup_ratings)))\n",
    "            #above line means that if top 5 ratings are not available then rest of the ratings will be filled by \"investor\" average\n",
    "            #rating. Let say only 3 out of 5 ratings are available then rest 2 will be \"investor\" average rating.\n",
    "            row.extend(top_similar_startup_ratings)\n",
    "            \n",
    " #----------------------------------Appending \"investor\" average, \"startup\" average & rating of \"investor\"\"startup\"-----------#\n",
    "            row.append(globalAvginvestors[investor])\n",
    "            row.append(globalAvgstartups[startup])\n",
    "            row.append(rating)\n",
    "            \n",
    "#-----------------------------------Converting rows and appending them as comma separated values to csv file------#\n",
    "            data.write(\",\".join(map(str, row)))\n",
    "            data.write(\"\\n\")\n",
    "    \n",
    "            count += 1\n",
    "            if count % 2000 == 0:\n",
    "                print(\"Done for {}. Time elapsed: {}\".format(count, (datetime.now() - startTime)))\n",
    "                \n",
    "    print(\"Total Time for {} rows = {}\".format(len(sample_train_ratings), (datetime.now() - startTime)))"
   ]
  },
  {
   "cell_type": "code",
   "execution_count": null,
   "metadata": {},
   "outputs": [],
   "source": [
    "Train_Reg = pd.read_csv(\"../Data/Train_Regression.csv\", names = [\"investor_ID\", \"startup_ID\", \"Global_Average\", \"SUR1\", \"SUR2\", \"SUR3\", \"SUR4\", \"SUR5\", \"SMR1\", \"SMR2\", \"SMR3\", \"SMR4\", \"SMR5\", \"investor_Average\", \"startup_Average\", \"Rating\"])\n",
    "Train_Reg.head()"
   ]
  },
  {
   "cell_type": "code",
   "execution_count": 3,
   "metadata": {},
   "outputs": [
    {
     "name": "stdout",
     "output_type": "stream",
     "text": [
      "Number of nan Values = 0\n"
     ]
    }
   ],
   "source": [
    "print(\"Number of nan Values = \"+str(Train_Reg.isnull().sum().sum()))"
   ]
  },
  {
   "cell_type": "markdown",
   "metadata": {},
   "source": [
    "<p><b>Investor_ID:</b> ID of a this Investor</p>\n",
    "\n",
    "<p><b>Startup_ID:</b> ID of a this Startup</p>\n",
    "\n",
    "<p><b>Global_Average:</b> Global Average Rating</p>\n",
    "\n",
    "<p><b>Ratings given to this Startup by top 5 similar investors with this Investor:</b> (SUR1, SUR2, SUR3, SUR4, SUR5)</p>\n",
    "   \n",
    "<p><b>Ratings given by this Investor to top 5 similar startups with this Startup:</b> (SMR1, SMR2, SMR3, SMR4, SMR5)</p>\n",
    "\n",
    "<p><b>Investor_Average:</b> Average Rating of this Investor</p>\n",
    "\n",
    "<p><b>Startup_Average:</b> Average Rating of this Startup</p>\n",
    "\n",
    "<p><b>Rating:</b> Rating given by this Investor to this Startup</p>"
   ]
  },
  {
   "cell_type": "code",
   "execution_count": 4,
   "metadata": {},
   "outputs": [
    {
     "name": "stdout",
     "output_type": "stream",
     "text": [
      "Shape of Train DataFrame = (19214, 16)\n"
     ]
    }
   ],
   "source": [
    "print(\"Shape of Train DataFrame = {}\".format(Train_Reg.shape))"
   ]
  },
  {
   "cell_type": "markdown",
   "metadata": {},
   "source": [
    "### Featurizing Test Data"
   ]
  },
  {
   "cell_type": "code",
   "execution_count": 274,
   "metadata": {},
   "outputs": [],
   "source": [
    "sample_test_investors, sample_test_startups, sample_test_ratings = sparse.find(test_sample_sparse)"
   ]
  },
  {
   "cell_type": "code",
   "execution_count": 275,
   "metadata": {},
   "outputs": [
    {
     "name": "stdout",
     "output_type": "stream",
     "text": [
      "Preparing Test csv file for 1150 rows\n",
      "Done for 100. Time elapsed: 0:00:57.690535\n",
      "Done for 200. Time elapsed: 0:01:55.658291\n",
      "Done for 300. Time elapsed: 0:02:51.644355\n",
      "Done for 400. Time elapsed: 0:03:48.542774\n",
      "Done for 500. Time elapsed: 0:04:46.203274\n",
      "Done for 600. Time elapsed: 0:05:43.748850\n",
      "Done for 700. Time elapsed: 0:06:40.060096\n",
      "Done for 800. Time elapsed: 0:07:36.876978\n",
      "Done for 900. Time elapsed: 0:08:35.474421\n",
      "Done for 1000. Time elapsed: 0:09:35.487426\n",
      "Done for 1100. Time elapsed: 0:10:33.057698\n",
      "Total Time for 1150 rows = 0:11:01.636286\n"
     ]
    }
   ],
   "source": [
    "if os.path.isfile(\"../Data/Test_Regression.csv\"):\n",
    "    print(\"File is already present in your disk. You do not have to prepare it again.\")\n",
    "else:\n",
    "    startTime = datetime.now()\n",
    "    print(\"Preparing Test csv file for {} rows\".format(len(sample_test_ratings)))\n",
    "    with open(\"../Data/Test_Regression.csv\", mode = \"w\") as data:\n",
    "        count = 0\n",
    "        for investor, startup, rating in zip(sample_test_investors, sample_test_startups, sample_test_ratings):\n",
    "            row = list()\n",
    "            row.append(investor)  #appending investor ID\n",
    "            row.append(startup) #appending startup ID\n",
    "            row.append(train_sample_sparse.sum()/train_sample_sparse.count_nonzero()) #appending global average rating\n",
    "\n",
    "#-----------------------------Ratings given to \"startup\" by top 5 similar investors with \"investor\"-------------------------#\n",
    "            try:\n",
    "                similar_investors = cosine_similarity(train_sample_sparse[investor], train_sample_sparse).ravel()\n",
    "                similar_investors_indices = np.argsort(-similar_investors)[1:]\n",
    "                similar_investors_ratings = train_sample_sparse[similar_investors_indices, startup].toarray().ravel()\n",
    "                top_similar_investor_ratings = list(similar_investors_ratings[similar_investors_ratings != 0][:5])\n",
    "                top_similar_investor_ratings.extend([globalAvgstartups[startup]]*(5-len(top_similar_investor_ratings)))\n",
    "                #above line means that if top 5 ratings are not available then rest of the ratings will be filled by \"startup\" \n",
    "                #average rating. Let say only 3 out of 5 ratings are available then rest 2 will be \"startup\" average rating.\n",
    "                row.extend(top_similar_investor_ratings)\n",
    "            #########Cold Start Problem, for a new investor or a new startup#########    \n",
    "            except(IndexError, KeyError):\n",
    "                global_average_train_rating = [train_sample_sparse.sum()/train_sample_sparse.count_nonzero()]*5\n",
    "                row.extend(global_average_train_rating)\n",
    "            except:\n",
    "                raise\n",
    "                \n",
    " #-----------------------------Ratings given by \"investor\" to top 5 similar startups with \"startup\"-----------------------#\n",
    "            try:\n",
    "                similar_startups = cosine_similarity(train_sample_sparse[:,startup].T, train_sample_sparse.T).ravel()\n",
    "                similar_startups_indices = np.argsort(-similar_startups)[1:]\n",
    "                similar_startups_ratings = train_sample_sparse[investor, similar_startups_indices].toarray().ravel()\n",
    "                top_similar_startup_ratings = list(similar_startups_ratings[similar_startups_ratings != 0][:5])\n",
    "                top_similar_startup_ratings.extend([globalAvginvestors[investor]]*(5-len(top_similar_startup_ratings)))\n",
    "                #above line means that if top 5 ratings are not available then rest of the ratings will be filled by \"investor\" \n",
    "                #average rating. Let say only 3 out of 5 ratings are available then rest 2 will be \"investor\" average rating.\n",
    "                row.extend(top_similar_startup_ratings)\n",
    "            #########Cold Start Problem, for a new investor or a new startup#########\n",
    "            except(IndexError, KeyError):\n",
    "                global_average_train_rating = [train_sample_sparse.sum()/train_sample_sparse.count_nonzero()]*5\n",
    "                row.extend(global_average_train_rating)\n",
    "            except:\n",
    "                raise\n",
    "                \n",
    " #-----------------------------Appending \"investor\" average, \"startup\" average & rating of \"investor\"\"startup\"----------------#\n",
    "            try:        \n",
    "                row.append(globalAvginvestors[investor])\n",
    "            except (KeyError):\n",
    "                global_average_train_rating = train_sample_sparse.sum()/train_sample_sparse.count_nonzero()\n",
    "                row.append(global_average_train_rating)\n",
    "            except:\n",
    "                raise\n",
    "                \n",
    "            try:\n",
    "                row.append(globalAvgstartups[startup])\n",
    "            except(KeyError):\n",
    "                global_average_train_rating = train_sample_sparse.sum()/train_sample_sparse.count_nonzero()\n",
    "                row.append(global_average_train_rating)\n",
    "            except:\n",
    "                raise\n",
    "                \n",
    "            row.append(rating)\n",
    "            \n",
    "#------------------------------Converting rows and appending them as comma separated values to csv file-----------#\n",
    "            data.write(\",\".join(map(str, row)))\n",
    "            data.write(\"\\n\")\n",
    "    \n",
    "            count += 1\n",
    "            if count % 100 == 0:\n",
    "                print(\"Done for {}. Time elapsed: {}\".format(count, (datetime.now() - startTime)))\n",
    "                \n",
    "    print(\"Total Time for {} rows = {}\".format(len(sample_test_ratings), (datetime.now() - startTime)))"
   ]
  },
  {
   "cell_type": "code",
   "execution_count": null,
   "metadata": {},
   "outputs": [],
   "source": [
    "Test_Reg = pd.read_csv(\"../Data/Test_Regression.csv\", names = [\"investor_ID\", \"startup_ID\", \"Global_Average\", \"SUR1\", \"SUR2\", \"SUR3\", \"SUR4\", \"SUR5\", \"SMR1\", \"SMR2\", \"SMR3\", \"SMR4\", \"SMR5\", \"investor_Average\", \"startup_Average\", \"Rating\"])\n",
    "Test_Reg.head()"
   ]
  },
  {
   "cell_type": "code",
   "execution_count": 6,
   "metadata": {},
   "outputs": [
    {
     "name": "stdout",
     "output_type": "stream",
     "text": [
      "Number of nan Values = 0\n"
     ]
    }
   ],
   "source": [
    "print(\"Number of nan Values = \"+str(Test_Reg.isnull().sum().sum()))"
   ]
  },
  {
   "cell_type": "code",
   "execution_count": 7,
   "metadata": {},
   "outputs": [
    {
     "name": "stdout",
     "output_type": "stream",
     "text": [
      "Shape of Test DataFrame = (1150, 16)\n"
     ]
    }
   ],
   "source": [
    "print(\"Shape of Test DataFrame = {}\".format(Test_Reg.shape))"
   ]
  },
  {
   "cell_type": "markdown",
   "metadata": {},
   "source": [
    "### Transforming Data for Surprise Models"
   ]
  },
  {
   "cell_type": "markdown",
   "metadata": {},
   "source": [
    "#### Transforming Train Data"
   ]
  },
  {
   "cell_type": "markdown",
   "metadata": {},
   "source": [
    "- We can't give raw data to train the model in Surprise library.\n",
    "\n",
    "\n",
    "- They have a separate format for TRAIN and TEST data, which will be useful for training the models like SVD, KNNBaseLineOnly....etc..,in Surprise.\n",
    "\n",
    "\n",
    "- We can form the trainset from a file, or from a Pandas  DataFrame. \n",
    "http://surprise.readthedocs.io/en/stable/getting_started.html#load-dom-dataframe-py "
   ]
  },
  {
   "cell_type": "code",
   "execution_count": null,
   "metadata": {},
   "outputs": [],
   "source": [
    "Train_Reg[['investor_ID', 'startup_ID', 'Rating']].head(5)"
   ]
  },
  {
   "cell_type": "code",
   "execution_count": 9,
   "metadata": {},
   "outputs": [],
   "source": [
    "reader = Reader(rating_scale=(1, 5))\n",
    "\n",
    "data = Dataset.load_from_df(Train_Reg[['investor_ID', 'startup_ID', 'Rating']], reader)\n",
    "\n",
    "trainset = data.build_full_trainset()"
   ]
  },
  {
   "cell_type": "markdown",
   "metadata": {},
   "source": [
    "#### Transforming Test Data\n",
    "\n",
    "- For test data we just have to define a tuple (investor, item, rating).\n",
    "- You can check out this link: https://github.com/NicolasHug/Surprise/commit/86cf44529ca0bbb97759b81d1716ff547b950812\n",
    "- Above link is a github of surprise library. Check methods \"def all_ratings(self)\" and \"def build_testset(self)\" from line\n",
    "  177 to 201(If they modify the file then line number may differ, but you can always check aforementioned two methods).\n",
    "- \"def build_testset(self)\" method returns a list of tuples of (investor, item, rating)."
   ]
  },
  {
   "cell_type": "code",
   "execution_count": 10,
   "metadata": {},
   "outputs": [],
   "source": [
    "testset = list(zip(Test_Reg[\"investor_ID\"].values, Test_Reg[\"startup_ID\"].values, Test_Reg[\"Rating\"].values))"
   ]
  },
  {
   "cell_type": "code",
   "execution_count": 11,
   "metadata": {},
   "outputs": [
    {
     "data": {
      "text/plain": [
       "[(464626, 4614, 3),\n",
       " (1815614, 4627, 3),\n",
       " (2298717, 4627, 5),\n",
       " (2532402, 4627, 4),\n",
       " (2027, 4798, 5)]"
      ]
     },
     "execution_count": 11,
     "metadata": {},
     "output_type": "execute_result"
    }
   ],
   "source": [
    "testset[:5]"
   ]
  },
  {
   "cell_type": "markdown",
   "metadata": {},
   "source": [
    "### Applying Machine Learning Models"
   ]
  },
  {
   "cell_type": "markdown",
   "metadata": {},
   "source": [
    "<p>We have two Error Metrics.</p>\n",
    "<p><b>->   RMSE: Root Mean Square Error: </b>RMSE is the error of each point which is squared. Then mean is calculated. Finally root of that mean is taken as final value.</p>\n",
    "<p><b>->   MAPE: Mean Absolute Percentage Error: </b>The mean absolute percentage error (MAPE), also known as mean absolute percentage deviation (MAPD), is a measure of prediction accuracy of a forecasting method.</p>\n",
    "<p>where At is the actual value and Ft is the forecast value.</p>\n",
    "<p>\n",
    "The difference between At and Ft is divided by the actual value At again. The absolute value in this calculation is summed for every forecasted point in time and divided by the number of fitted points n. Multiplying by 100% makes it a percentage error.</p>"
   ]
  },
  {
   "cell_type": "markdown",
   "metadata": {},
   "source": [
    "<b>We can also use other regression models. But  we are using exclusively XGBoost as it is typically fairly powerful in practice.</b>"
   ]
  },
  {
   "cell_type": "code",
   "execution_count": 12,
   "metadata": {},
   "outputs": [],
   "source": [
    "error_table = pd.DataFrame(columns = [\"Model\", \"Train RMSE\", \"Train MAPE\", \"Test RMSE\", \"Test MAPE\"])\n",
    "model_train_evaluation = dict()\n",
    "model_test_evaluation = dict()"
   ]
  },
  {
   "cell_type": "code",
   "execution_count": 13,
   "metadata": {},
   "outputs": [],
   "source": [
    "def make_table(model_name, rmse_train, mape_train, rmse_test, mape_test):\n",
    "    global error_table\n",
    "    #All variable assignments in a function store the value in the local symbol table; whereas variable references first look \n",
    "    #in the local symbol table, then in the global symbol table, and then in the table of built-in names. Thus, global variables \n",
    "    #cannot be directly assigned a value within a function (unless named in a global statement), \n",
    "    #although they may be referenced.\n",
    "    error_table = error_table.append(pd.DataFrame([[model_name, rmse_train, mape_train, rmse_test, mape_test]], columns = [\"Model\", \"Train RMSE\", \"Train MAPE\", \"Test RMSE\", \"Test MAPE\"]))\n",
    "    error_table.reset_index(drop = True, inplace = True)"
   ]
  },
  {
   "cell_type": "markdown",
   "metadata": {},
   "source": [
    "### Utility Functions for Regression Models"
   ]
  },
  {
   "cell_type": "code",
   "execution_count": 14,
   "metadata": {},
   "outputs": [],
   "source": [
    "def error_metrics(y_true, y_pred):\n",
    "    rmse = np.sqrt(mean_squared_error(y_true, y_pred))\n",
    "    mape = np.mean(abs((y_true - y_pred)/y_true))*100\n",
    "    return rmse, mape"
   ]
  },
  {
   "cell_type": "code",
   "execution_count": 15,
   "metadata": {},
   "outputs": [],
   "source": [
    "def train_test_xgboost(x_train, x_test, y_train, y_test, model_name):\n",
    "    startTime = datetime.now()\n",
    "    train_result = dict()\n",
    "    test_result = dict()\n",
    "    \n",
    "    clf = xgb.XGBRegressor(n_estimators = 100, silent = False, n_jobs  = 10)\n",
    "    clf.fit(x_train, y_train)\n",
    "    \n",
    "    print(\"-\"*50)\n",
    "    print(\"TRAIN DATA\")\n",
    "    y_pred_train = clf.predict(x_train)\n",
    "    rmse_train, mape_train = error_metrics(y_train, y_pred_train)\n",
    "    print(\"RMSE = {}\".format(rmse_train))\n",
    "    print(\"MAPE = {}\".format(mape_train))\n",
    "    print(\"-\"*50)\n",
    "    train_result = {\"RMSE\": rmse_train, \"MAPE\": mape_train, \"Prediction\": y_pred_train}\n",
    "    \n",
    "    print(\"TEST DATA\")\n",
    "    y_pred_test = clf.predict(x_test)\n",
    "    rmse_test, mape_test = error_metrics(y_test, y_pred_test)\n",
    "    print(\"RMSE = {}\".format(rmse_test))\n",
    "    print(\"MAPE = {}\".format(mape_test))\n",
    "    print(\"-\"*50)\n",
    "    test_result = {\"RMSE\": rmse_test, \"MAPE\": mape_test, \"Prediction\": y_pred_test}\n",
    "        \n",
    "    print(\"Time Taken = \"+str(datetime.now() - startTime))\n",
    "    \n",
    "    plot_importance(xgb, clf)\n",
    "    \n",
    "    make_table(model_name, rmse_train, mape_train, rmse_test, mape_test)\n",
    "    \n",
    "    return train_result, test_result"
   ]
  },
  {
   "cell_type": "code",
   "execution_count": 16,
   "metadata": {},
   "outputs": [],
   "source": [
    "def plot_importance(model, clf):\n",
    "    fig = plt.figure(figsize = (8, 6))\n",
    "    ax = fig.add_axes([0,0,1,1])\n",
    "    model.plot_importance(clf, ax = ax, height = 0.3)\n",
    "    plt.xlabel(\"F Score\", fontsize = 20)\n",
    "    plt.ylabel(\"Features\", fontsize = 20)\n",
    "    plt.title(\"Feature Importance\", fontsize = 20)\n",
    "    plt.tick_params(labelsize = 15)\n",
    "    \n",
    "    plt.show()"
   ]
  },
  {
   "cell_type": "markdown",
   "metadata": {},
   "source": [
    "### Utility Functions for Surprise Models"
   ]
  },
  {
   "cell_type": "code",
   "execution_count": 17,
   "metadata": {},
   "outputs": [],
   "source": [
    "def get_ratings(predictions):\n",
    "    actual = np.array([pred.r_ui for pred in predictions])\n",
    "    predicted = np.array([pred.est for pred in predictions])\n",
    "    return actual, predicted\n",
    "#in surprise prediction of every data point is returned as dictionary like this:\n",
    "#\"investor: 196        item: 302        r_ui = 4.00   est = 4.06   {'actual_k': 40, 'was_impossible': False}\"\n",
    "#In this dictionary, \"r_ui\" is a key for actual rating and \"est\" is a key for predicted rating "
   ]
  },
  {
   "cell_type": "code",
   "execution_count": 18,
   "metadata": {},
   "outputs": [],
   "source": [
    "def get_error(predictions):\n",
    "    actual, predicted = get_ratings(predictions)\n",
    "    rmse = np.sqrt(mean_squared_error(actual, predicted)) \n",
    "    mape = np.mean(abs((actual - predicted)/actual))*100\n",
    "    return rmse, mape"
   ]
  },
  {
   "cell_type": "code",
   "execution_count": 19,
   "metadata": {},
   "outputs": [],
   "source": [
    "my_seed = 15\n",
    "random.seed(my_seed)\n",
    "np.random.seed(my_seed)\n",
    "\n",
    "def run_surprise(algo, trainset, testset, model_name):\n",
    "    startTime = datetime.now()\n",
    "    \n",
    "    train = dict()\n",
    "    test = dict()\n",
    "    \n",
    "    algo.fit(trainset)\n",
    "    #You can check out above function at \"https://surprise.readthedocs.io/en/stable/getting_started.html\" in \n",
    "    #\"Train-test split and the fit() method\" section\n",
    "    \n",
    "#-----------------Evaluating Train Data------------------#\n",
    "    print(\"-\"*50)\n",
    "    print(\"TRAIN DATA\")\n",
    "    train_pred = algo.test(trainset.build_testset())\n",
    "    #You can check out \"algo.test()\" function at \"https://surprise.readthedocs.io/en/stable/getting_started.html\" in \n",
    "    #\"Train-test split and the fit() method\" section\n",
    "    #You can check out \"trainset.build_testset()\" function at \"https://surprise.readthedocs.io/en/stable/FAQ.html#can-i-use-my-own-dataset-with-surprise-and-can-it-be-a-pandas-dataframe\" in \n",
    "    #\"How to get accuracy measures on the training set\" section\n",
    "    train_actual, train_predicted = get_ratings(train_pred)\n",
    "    train_rmse, train_mape = get_error(train_pred)\n",
    "    print(\"RMSE = {}\".format(train_rmse))\n",
    "    print(\"MAPE = {}\".format(train_mape))\n",
    "    print(\"-\"*50)\n",
    "    train = {\"RMSE\": train_rmse, \"MAPE\": train_mape, \"Prediction\": train_predicted}\n",
    "    \n",
    "#-----------------Evaluating Test Data------------------#\n",
    "    print(\"TEST DATA\")\n",
    "    test_pred = algo.test(testset)\n",
    "    #You can check out \"algo.test()\" function at \"https://surprise.readthedocs.io/en/stable/getting_started.html\" in \n",
    "    #\"Train-test split and the fit() method\" section\n",
    "    test_actual, test_predicted = get_ratings(test_pred)\n",
    "    test_rmse, test_mape = get_error(test_pred)\n",
    "    print(\"RMSE = {}\".format(test_rmse))\n",
    "    print(\"MAPE = {}\".format(test_mape))\n",
    "    print(\"-\"*50)\n",
    "    test = {\"RMSE\": test_rmse, \"MAPE\": test_mape, \"Prediction\": test_predicted}\n",
    "    \n",
    "    print(\"Time Taken = \"+str(datetime.now() - startTime))\n",
    "    \n",
    "    make_table(model_name, train_rmse, train_mape, test_rmse, test_mape)\n",
    "    \n",
    "    return train, test"
   ]
  },
  {
   "cell_type": "markdown",
   "metadata": {},
   "source": [
    "## Surprise BaselineOnly Model"
   ]
  },
  {
   "cell_type": "markdown",
   "metadata": {},
   "source": [
    "### Predicted Rating\n",
    "> $\\large\\hat{r}_{ui} = \\mu + b_u + b_i$<br><br>\n",
    "\n",
    "- $\\mu$: Average Global Ratings in training data<br>\n",
    "- $b_u$: User-Bias<br>\n",
    "- $b_i$: Item-Bias\n",
    "\n",
    "### Optimization Function\n",
    "> $\\large \\sum_{r_ui \\in R_{Train}} \\left(r_{ui} - (\\mu + b_u + b_i)\\right)^2 + \\lambda \\left(b_u^2 + b_i^2 \\right). \\left[minimize\\; b_u, b_i \\right]$"
   ]
  },
  {
   "cell_type": "code",
   "execution_count": 22,
   "metadata": {},
   "outputs": [
    {
     "name": "stdout",
     "output_type": "stream",
     "text": [
      "Estimating biases using sgd...\n",
      "--------------------------------------------------\n",
      "TRAIN DATA\n",
      "RMSE = 0.8811426214928658\n",
      "MAPE = 27.158727146074078\n",
      "--------------------------------------------------\n",
      "TEST DATA\n",
      "RMSE = 1.0678388468431512\n",
      "MAPE = 33.39729060309592\n",
      "--------------------------------------------------\n",
      "Time Taken = 0:00:00.516484\n"
     ]
    }
   ],
   "source": [
    "bsl_options = {\"method\":\"sgd\", \"learning_rate\":0.01, \"n_epochs\":25}\n",
    "\n",
    "algo = BaselineOnly(bsl_options=bsl_options)\n",
    "#You can check the docs of above used functions at:https://surprise.readthedocs.io/en/stable/prediction_algorithms.html#baseline-estimates-configuration\n",
    "#at section \"Baselines estimates configuration\".\n",
    "\n",
    "train_result, test_result = run_surprise(algo, trainset, testset, \"BaselineOnly\")\n",
    "\n",
    "model_train_evaluation[\"BaselineOnly\"] = train_result\n",
    "model_test_evaluation[\"BaselineOnly\"] = test_result"
   ]
  },
  {
   "cell_type": "markdown",
   "metadata": {},
   "source": [
    "##"
   ]
  },
  {
   "cell_type": "markdown",
   "metadata": {},
   "source": [
    "## XGBoost 13 Features + Surprise BaselineOnly Model"
   ]
  },
  {
   "cell_type": "markdown",
   "metadata": {},
   "source": [
    "### Adding predicted ratings from Surprise BaselineOnly model to our Train and Test Dataframe"
   ]
  },
  {
   "cell_type": "code",
   "execution_count": 23,
   "metadata": {},
   "outputs": [],
   "source": [
    "Train_Reg[\"BaselineOnly\"] = model_train_evaluation[\"BaselineOnly\"][\"Prediction\"]"
   ]
  },
  {
   "cell_type": "code",
   "execution_count": 25,
   "metadata": {},
   "outputs": [
    {
     "name": "stdout",
     "output_type": "stream",
     "text": [
      "Number of nan values = 0\n"
     ]
    }
   ],
   "source": [
    "print(\"Number of nan values = \"+str(Train_Reg.isnull().sum().sum()))"
   ]
  },
  {
   "cell_type": "code",
   "execution_count": 27,
   "metadata": {},
   "outputs": [
    {
     "name": "stdout",
     "output_type": "stream",
     "text": [
      "Number of nan values = 0\n"
     ]
    }
   ],
   "source": [
    "print(\"Number of nan values = \"+str(Test_Reg.isnull().sum().sum()))"
   ]
  },
  {
   "cell_type": "markdown",
   "metadata": {},
   "source": [
    "## 4. Surprise KNN-Baseline with Investor-Invesor and Item-Item Similarity"
   ]
  },
  {
   "cell_type": "markdown",
   "metadata": {},
   "source": [
    "### Prediction $\\hat{r}_{ui}$ in case of investor-investor similarity\n",
    "\n",
    "$\\large \\hat{r}_{ui} = b_{ui} + \\frac{ \\sum\\limits_{v \\in N^k_i(u)}\n",
    "\\text{sim}(u, v) \\cdot (r_{vi} - b_{vi})} {\\sum\\limits_{v\n",
    "\\in N^k_i(u)} \\text{sim}(u, v)}$\n",
    "\n",
    "- $\\pmb{b_{ui}}$ - Baseline prediction_ of (investor, startup) rating which is \"$b_{ui} = \\mu + b_u + b_i$\".\n",
    "\n",
    "- $ \\pmb {N_i^k (u)}$ - Set of __K similar__ investors (neighbours) of __investor(u)__ who rated __startup(i)__  \n",
    "\n",
    "- _sim (u, v)_ - Similarity between investors __u and v__ who also rated startup 'i'. This is exactly same as our hand-crafted features 'SUR'- 'Similar Investor Rating'. Means here we have taken 'k' such similar investors 'v' with investor 'u' who also rated startup 'i'. $r_{vi}$ is the rating which investor 'v' gives on item 'i'. $b_{vi}$ is the predicted baseline model rating of investor 'v' on item 'i'.\n",
    "    - Generally, it will be cosine similarity or Pearson correlation coefficient. \n",
    "    - But we use __shrunk Pearson-baseline correlation coefficient__, which is based on the pearsonBaseline similarity ( we take - base line predictions instead of mean rating of investor/item)<br><br><br><br>  \n",
    "\n",
    "### Prediction $\\hat{r}_{ui}$ in case of item-item similarity\n",
    "\n",
    "$\\large \\hat{r}_{ui} = b_{ui} + \\frac{ \\sum\\limits_{j \\in N^k_u(i)}\n",
    "\\text{sim}(i, j) \\cdot (r_{uj} - b_{uj})} {\\sum\\limits_{j \\in\n",
    "N^k_u(j)} \\text{sim}(i, j)}$\n",
    "\n",
    "- __Notation is same as of investor-investor similarity__<br><br><br>\n",
    "\n",
    "\n",
    "#### Documentation you can check at:\n",
    "KNN BASELINE: https://surprise.readthedocs.io/en/stable/knn_inspired.html\n",
    "\n",
    "PEARSON_BASELINE SIMILARITY: http://surprise.readthedocs.io/en/stable/similarities.html#surprise.similarities.pearson_baseline\n",
    "\n",
    "SHRINKAGE: Neighborhood Models in http://courses.ischool.berkeley.edu/i290-dm/s11/SECURE/a1-koren.pdf"
   ]
  },
  {
   "cell_type": "markdown",
   "metadata": {},
   "source": [
    "### 4.1 Surprise KNN-Baseline with investor-investor."
   ]
  },
  {
   "cell_type": "markdown",
   "metadata": {},
   "source": [
    "#### Cross- Validation"
   ]
  },
  {
   "cell_type": "code",
   "execution_count": 56,
   "metadata": {
    "scrolled": true
   },
   "outputs": [
    {
     "name": "stdout",
     "output_type": "stream",
     "text": [
      "Estimating biases using als...\n",
      "Computing the pearson_baseline similarity matrix...\n",
      "Done computing similarity matrix.\n",
      "Estimating biases using als...\n",
      "Computing the pearson_baseline similarity matrix...\n",
      "Done computing similarity matrix.\n",
      "Estimating biases using als...\n",
      "Computing the pearson_baseline similarity matrix...\n",
      "Done computing similarity matrix.\n",
      "Estimating biases using als...\n",
      "Computing the pearson_baseline similarity matrix...\n",
      "Done computing similarity matrix.\n",
      "Estimating biases using als...\n",
      "Computing the pearson_baseline similarity matrix...\n",
      "Done computing similarity matrix.\n",
      "Estimating biases using als...\n",
      "Computing the pearson_baseline similarity matrix...\n",
      "Done computing similarity matrix.\n",
      "Estimating biases using als...\n",
      "Computing the pearson_baseline similarity matrix...\n",
      "Done computing similarity matrix.\n",
      "Estimating biases using als...\n",
      "Computing the pearson_baseline similarity matrix...\n",
      "Done computing similarity matrix.\n",
      "Estimating biases using als...\n",
      "Computing the pearson_baseline similarity matrix...\n",
      "Done computing similarity matrix.\n",
      "Estimating biases using als...\n",
      "Computing the pearson_baseline similarity matrix...\n",
      "Done computing similarity matrix.\n",
      "Estimating biases using als...\n",
      "Computing the pearson_baseline similarity matrix...\n",
      "Done computing similarity matrix.\n",
      "Estimating biases using als...\n",
      "Computing the pearson_baseline similarity matrix...\n",
      "Done computing similarity matrix.\n",
      "Estimating biases using als...\n",
      "Computing the pearson_baseline similarity matrix...\n",
      "Done computing similarity matrix.\n",
      "Estimating biases using als...\n",
      "Computing the pearson_baseline similarity matrix...\n",
      "Done computing similarity matrix.\n",
      "Estimating biases using als...\n",
      "Computing the pearson_baseline similarity matrix...\n",
      "Done computing similarity matrix.\n",
      "Estimating biases using als...\n",
      "Computing the pearson_baseline similarity matrix...\n",
      "Done computing similarity matrix.\n",
      "Estimating biases using als...\n",
      "Computing the pearson_baseline similarity matrix...\n",
      "Done computing similarity matrix.\n",
      "Estimating biases using als...\n",
      "Computing the pearson_baseline similarity matrix...\n",
      "Done computing similarity matrix.\n",
      "Estimating biases using als...\n",
      "Computing the pearson_baseline similarity matrix...\n",
      "Done computing similarity matrix.\n",
      "Estimating biases using als...\n",
      "Computing the pearson_baseline similarity matrix...\n",
      "Done computing similarity matrix.\n",
      "Estimating biases using als...\n",
      "Computing the pearson_baseline similarity matrix...\n",
      "Done computing similarity matrix.\n",
      "Estimating biases using als...\n",
      "Computing the pearson_baseline similarity matrix...\n",
      "Done computing similarity matrix.\n",
      "Estimating biases using als...\n",
      "Computing the pearson_baseline similarity matrix...\n",
      "Done computing similarity matrix.\n",
      "Estimating biases using als...\n",
      "Computing the pearson_baseline similarity matrix...\n",
      "Done computing similarity matrix.\n",
      "Estimating biases using als...\n",
      "Computing the pearson_baseline similarity matrix...\n",
      "Done computing similarity matrix.\n",
      "Estimating biases using als...\n",
      "Computing the pearson_baseline similarity matrix...\n",
      "Done computing similarity matrix.\n",
      "Estimating biases using als...\n",
      "Computing the pearson_baseline similarity matrix...\n",
      "Done computing similarity matrix.\n",
      "Estimating biases using als...\n",
      "Computing the pearson_baseline similarity matrix...\n",
      "Done computing similarity matrix.\n",
      "Estimating biases using als...\n",
      "Computing the pearson_baseline similarity matrix...\n",
      "Done computing similarity matrix.\n",
      "Estimating biases using als...\n",
      "Computing the pearson_baseline similarity matrix...\n",
      "Done computing similarity matrix.\n",
      "Estimating biases using als...\n",
      "Computing the pearson_baseline similarity matrix...\n",
      "Done computing similarity matrix.\n",
      "Estimating biases using als...\n",
      "Computing the pearson_baseline similarity matrix...\n",
      "Done computing similarity matrix.\n",
      "Estimating biases using als...\n",
      "Computing the pearson_baseline similarity matrix...\n",
      "Done computing similarity matrix.\n",
      "Estimating biases using als...\n",
      "Computing the pearson_baseline similarity matrix...\n",
      "Done computing similarity matrix.\n",
      "Estimating biases using als...\n",
      "Computing the pearson_baseline similarity matrix...\n",
      "Done computing similarity matrix.\n",
      "Estimating biases using als...\n",
      "Computing the pearson_baseline similarity matrix...\n",
      "Done computing similarity matrix.\n",
      "Estimating biases using als...\n",
      "Computing the pearson_baseline similarity matrix...\n",
      "Done computing similarity matrix.\n",
      "Estimating biases using als...\n",
      "Computing the pearson_baseline similarity matrix...\n",
      "Done computing similarity matrix.\n",
      "Estimating biases using als...\n",
      "Computing the pearson_baseline similarity matrix...\n",
      "Done computing similarity matrix.\n",
      "Estimating biases using als...\n",
      "Computing the pearson_baseline similarity matrix...\n",
      "Done computing similarity matrix.\n",
      "Estimating biases using als...\n",
      "Computing the pearson_baseline similarity matrix...\n",
      "Done computing similarity matrix.\n",
      "Estimating biases using als...\n",
      "Computing the pearson_baseline similarity matrix...\n",
      "Done computing similarity matrix.\n",
      "Estimating biases using als...\n",
      "Computing the pearson_baseline similarity matrix...\n",
      "Done computing similarity matrix.\n",
      "Estimating biases using als...\n",
      "Computing the pearson_baseline similarity matrix...\n",
      "Done computing similarity matrix.\n",
      "Estimating biases using als...\n",
      "Computing the pearson_baseline similarity matrix...\n",
      "Done computing similarity matrix.\n",
      "Estimating biases using als...\n",
      "Computing the pearson_baseline similarity matrix...\n",
      "Done computing similarity matrix.\n",
      "Estimating biases using als...\n",
      "Computing the pearson_baseline similarity matrix...\n",
      "Done computing similarity matrix.\n",
      "Estimating biases using als...\n",
      "Computing the pearson_baseline similarity matrix...\n",
      "Done computing similarity matrix.\n",
      "1.0150473464607659\n",
      "{'sim_options': {'name': 'pearson_baseline', 'user_based': True, 'min_support': 2, 'shrinkage': 60}, 'k': 80}\n"
     ]
    }
   ],
   "source": [
    "param_grid  = {'sim_options':{'name': [\"pearson_baseline\"], \"investor_based\": [True], \"min_support\": [2], \"shrinkage\": [60, 80, 80, 140]}, 'k': [5, 20, 40, 80]}\n",
    "\n",
    "gs = GridSearchCV(KNNBaseline, param_grid, measures=['rmse', 'mae'], cv=3)\n",
    "\n",
    "gs.fit(data)\n",
    "\n",
    "# best RMSE score\n",
    "print(gs.best_score['rmse'])\n",
    "\n",
    "# combination of parameters that gave the best RMSE score\n",
    "print(gs.best_params['rmse'])"
   ]
  },
  {
   "cell_type": "markdown",
   "metadata": {},
   "source": [
    "### Applying KNNBaseline investor-investor with best parameters"
   ]
  },
  {
   "cell_type": "code",
   "execution_count": 61,
   "metadata": {},
   "outputs": [
    {
     "name": "stdout",
     "output_type": "stream",
     "text": [
      "Estimating biases using sgd...\n",
      "Computing the pearson_baseline similarity matrix...\n",
      "Done computing similarity matrix.\n",
      "--------------------------------------------------\n",
      "TRAIN DATA\n",
      "RMSE = 0.3044975188091617\n",
      "MAPE = 8.090955152033715\n",
      "--------------------------------------------------\n",
      "TEST DATA\n",
      "RMSE = 1.067654798722828\n",
      "MAPE = 33.39814334762251\n",
      "--------------------------------------------------\n",
      "Time Taken = 0:00:13.622646\n"
     ]
    }
   ],
   "source": [
    "sim_options = {'name':'pearson_baseline', 'investor_based':True, 'min_support':2, 'shrinkage':gs.best_params['rmse']['sim_options']['shrinkage']}\n",
    "\n",
    "bsl_options = {'method': 'sgd'} \n",
    "\n",
    "algo = KNNBaseline(k = gs.best_params['rmse']['k'], sim_options = sim_options, bsl_options=bsl_options)\n",
    "\n",
    "train_result, test_result = run_surprise(algo, trainset, testset, \"KNNBaseline_investor\")\n",
    "\n",
    "model_train_evaluation[\"KNNBaseline_investor\"] = train_result\n",
    "model_test_evaluation[\"KNNBaseline_investor\"] = test_result"
   ]
  },
  {
   "cell_type": "markdown",
   "metadata": {},
   "source": [
    "### 2 Surprise KNN-Baseline with Item-Item."
   ]
  },
  {
   "cell_type": "markdown",
   "metadata": {},
   "source": [
    "#### Cross- Validation"
   ]
  },
  {
   "cell_type": "code",
   "execution_count": 62,
   "metadata": {},
   "outputs": [
    {
     "name": "stdout",
     "output_type": "stream",
     "text": [
      "Estimating biases using als...\n",
      "Computing the pearson_baseline similarity matrix...\n",
      "Done computing similarity matrix.\n",
      "Estimating biases using als...\n",
      "Computing the pearson_baseline similarity matrix...\n",
      "Done computing similarity matrix.\n",
      "Estimating biases using als...\n",
      "Computing the pearson_baseline similarity matrix...\n",
      "Done computing similarity matrix.\n",
      "Estimating biases using als...\n",
      "Computing the pearson_baseline similarity matrix...\n",
      "Done computing similarity matrix.\n",
      "Estimating biases using als...\n",
      "Computing the pearson_baseline similarity matrix...\n",
      "Done computing similarity matrix.\n",
      "Estimating biases using als...\n",
      "Computing the pearson_baseline similarity matrix...\n",
      "Done computing similarity matrix.\n",
      "Estimating biases using als...\n",
      "Computing the pearson_baseline similarity matrix...\n",
      "Done computing similarity matrix.\n",
      "Estimating biases using als...\n",
      "Computing the pearson_baseline similarity matrix...\n",
      "Done computing similarity matrix.\n",
      "Estimating biases using als...\n",
      "Computing the pearson_baseline similarity matrix...\n",
      "Done computing similarity matrix.\n",
      "Estimating biases using als...\n",
      "Computing the pearson_baseline similarity matrix...\n",
      "Done computing similarity matrix.\n",
      "Estimating biases using als...\n",
      "Computing the pearson_baseline similarity matrix...\n",
      "Done computing similarity matrix.\n",
      "Estimating biases using als...\n",
      "Computing the pearson_baseline similarity matrix...\n",
      "Done computing similarity matrix.\n",
      "Estimating biases using als...\n",
      "Computing the pearson_baseline similarity matrix...\n",
      "Done computing similarity matrix.\n",
      "Estimating biases using als...\n",
      "Computing the pearson_baseline similarity matrix...\n",
      "Done computing similarity matrix.\n",
      "Estimating biases using als...\n",
      "Computing the pearson_baseline similarity matrix...\n",
      "Done computing similarity matrix.\n",
      "Estimating biases using als...\n",
      "Computing the pearson_baseline similarity matrix...\n",
      "Done computing similarity matrix.\n",
      "Estimating biases using als...\n",
      "Computing the pearson_baseline similarity matrix...\n",
      "Done computing similarity matrix.\n",
      "Estimating biases using als...\n",
      "Computing the pearson_baseline similarity matrix...\n",
      "Done computing similarity matrix.\n",
      "Estimating biases using als...\n",
      "Computing the pearson_baseline similarity matrix...\n",
      "Done computing similarity matrix.\n",
      "Estimating biases using als...\n",
      "Computing the pearson_baseline similarity matrix...\n",
      "Done computing similarity matrix.\n",
      "Estimating biases using als...\n",
      "Computing the pearson_baseline similarity matrix...\n",
      "Done computing similarity matrix.\n",
      "Estimating biases using als...\n",
      "Computing the pearson_baseline similarity matrix...\n",
      "Done computing similarity matrix.\n",
      "Estimating biases using als...\n",
      "Computing the pearson_baseline similarity matrix...\n",
      "Done computing similarity matrix.\n",
      "Estimating biases using als...\n",
      "Computing the pearson_baseline similarity matrix...\n",
      "Done computing similarity matrix.\n",
      "Estimating biases using als...\n",
      "Computing the pearson_baseline similarity matrix...\n",
      "Done computing similarity matrix.\n",
      "Estimating biases using als...\n",
      "Computing the pearson_baseline similarity matrix...\n",
      "Done computing similarity matrix.\n",
      "Estimating biases using als...\n",
      "Computing the pearson_baseline similarity matrix...\n",
      "Done computing similarity matrix.\n",
      "Estimating biases using als...\n",
      "Computing the pearson_baseline similarity matrix...\n",
      "Done computing similarity matrix.\n",
      "Estimating biases using als...\n",
      "Computing the pearson_baseline similarity matrix...\n",
      "Done computing similarity matrix.\n",
      "Estimating biases using als...\n",
      "Computing the pearson_baseline similarity matrix...\n",
      "Done computing similarity matrix.\n",
      "Estimating biases using als...\n",
      "Computing the pearson_baseline similarity matrix...\n",
      "Done computing similarity matrix.\n",
      "Estimating biases using als...\n",
      "Computing the pearson_baseline similarity matrix...\n",
      "Done computing similarity matrix.\n",
      "Estimating biases using als...\n",
      "Computing the pearson_baseline similarity matrix...\n",
      "Done computing similarity matrix.\n",
      "Estimating biases using als...\n",
      "Computing the pearson_baseline similarity matrix...\n",
      "Done computing similarity matrix.\n",
      "Estimating biases using als...\n",
      "Computing the pearson_baseline similarity matrix...\n",
      "Done computing similarity matrix.\n",
      "Estimating biases using als...\n",
      "Computing the pearson_baseline similarity matrix...\n",
      "Done computing similarity matrix.\n",
      "Estimating biases using als...\n",
      "Computing the pearson_baseline similarity matrix...\n",
      "Done computing similarity matrix.\n",
      "Estimating biases using als...\n",
      "Computing the pearson_baseline similarity matrix...\n",
      "Done computing similarity matrix.\n",
      "Estimating biases using als...\n",
      "Computing the pearson_baseline similarity matrix...\n",
      "Done computing similarity matrix.\n",
      "Estimating biases using als...\n",
      "Computing the pearson_baseline similarity matrix...\n",
      "Done computing similarity matrix.\n",
      "Estimating biases using als...\n",
      "Computing the pearson_baseline similarity matrix...\n",
      "Done computing similarity matrix.\n",
      "Estimating biases using als...\n",
      "Computing the pearson_baseline similarity matrix...\n",
      "Done computing similarity matrix.\n",
      "Estimating biases using als...\n",
      "Computing the pearson_baseline similarity matrix...\n",
      "Done computing similarity matrix.\n",
      "Estimating biases using als...\n",
      "Computing the pearson_baseline similarity matrix...\n",
      "Done computing similarity matrix.\n",
      "Estimating biases using als...\n",
      "Computing the pearson_baseline similarity matrix...\n",
      "Done computing similarity matrix.\n",
      "Estimating biases using als...\n",
      "Computing the pearson_baseline similarity matrix...\n",
      "Done computing similarity matrix.\n",
      "Estimating biases using als...\n",
      "Computing the pearson_baseline similarity matrix...\n",
      "Done computing similarity matrix.\n",
      "Estimating biases using als...\n",
      "Computing the pearson_baseline similarity matrix...\n",
      "Done computing similarity matrix.\n",
      "1.0898187984177725\n",
      "{'sim_options': {'name': 'pearson_baseline', 'user_based': False, 'min_support': 2, 'shrinkage': 60}, 'k': 40}\n"
     ]
    }
   ],
   "source": [
    "param_grid  = {'sim_options':{'name': [\"pearson_baseline\"], \"investor_based\": [False], \"min_support\": [2], \"shrinkage\": [60, 80, 80, 140]}, 'k': [5, 20, 40, 80]}\n",
    "\n",
    "gs = GridSearchCV(KNNBaseline, param_grid, measures=['rmse', 'mae'], cv=3)\n",
    "\n",
    "gs.fit(data)\n",
    "\n",
    "# best RMSE score\n",
    "print(gs.best_score['rmse'])\n",
    "\n",
    "# combination of parameters that gave the best RMSE score\n",
    "print(gs.best_params['rmse'])"
   ]
  },
  {
   "cell_type": "markdown",
   "metadata": {},
   "source": [
    "#### Applying KNNBaseline Item-Item with best parameters"
   ]
  },
  {
   "cell_type": "code",
   "execution_count": 65,
   "metadata": {},
   "outputs": [
    {
     "name": "stdout",
     "output_type": "stream",
     "text": [
      "Estimating biases using sgd...\n",
      "Computing the pearson_baseline similarity matrix...\n",
      "Done computing similarity matrix.\n",
      "--------------------------------------------------\n",
      "TRAIN DATA\n",
      "RMSE = 0.1818822561823507\n",
      "MAPE = 4.2501507953116135\n",
      "--------------------------------------------------\n",
      "TEST DATA\n",
      "RMSE = 1.067654798722828\n",
      "MAPE = 33.39814334762251\n",
      "--------------------------------------------------\n",
      "Time Taken = 0:00:00.914647\n"
     ]
    }
   ],
   "source": [
    "sim_options = {'name':'pearson_baseline', 'investor_based':False, 'min_support':2, 'shrinkage':gs.best_params['rmse']['sim_options']['shrinkage']}\n",
    "\n",
    "bsl_options = {'method': 'sgd'} \n",
    "\n",
    "algo = KNNBaseline(k = gs.best_params['rmse']['k'], sim_options = sim_options, bsl_options=bsl_options)\n",
    "\n",
    "train_result, test_result = run_surprise(algo, trainset, testset, \"KNNBaseline_Item\")\n",
    "\n",
    "model_train_evaluation[\"KNNBaseline_Item\"] = train_result\n",
    "model_test_evaluation[\"KNNBaseline_Item\"] = test_result"
   ]
  },
  {
   "cell_type": "markdown",
   "metadata": {},
   "source": [
    "## XGBoost 13 Features + Surprise BaselineOnly + Surprise KNN Baseline"
   ]
  },
  {
   "cell_type": "markdown",
   "metadata": {},
   "source": [
    "### Adding predicted ratings from Surprise KNN Baseline model to our Train and Test Dataframe"
   ]
  },
  {
   "cell_type": "code",
   "execution_count": 68,
   "metadata": {},
   "outputs": [],
   "source": [
    "Train_Reg[\"KNNBaseline_investor\"] = model_train_evaluation[\"KNNBaseline_investor\"][\"Prediction\"]\n",
    "Train_Reg[\"KNNBaseline_Item\"] = model_train_evaluation[\"KNNBaseline_Item\"][\"Prediction\"]\n",
    "\n",
    "Test_Reg[\"KNNBaseline_investor\"] = model_test_evaluation[\"KNNBaseline_investor\"][\"Prediction\"]\n",
    "Test_Reg[\"KNNBaseline_Item\"] = model_test_evaluation[\"KNNBaseline_Item\"][\"Prediction\"]"
   ]
  },
  {
   "cell_type": "code",
   "execution_count": 72,
   "metadata": {},
   "outputs": [
    {
     "name": "stdout",
     "output_type": "stream",
     "text": [
      "Number of nan values in Train Data 0\n"
     ]
    }
   ],
   "source": [
    "print(\"Number of nan values in Train Data \"+str(Train_Reg.isnull().sum().sum()))"
   ]
  },
  {
   "cell_type": "markdown",
   "metadata": {},
   "source": [
    "<div>\n",
    "<style scoped>\n",
    "    .dataframe tbody tr th:only-of-type {\n",
    "        vertical-align: middle;\n",
    "    }\n",
    "\n",
    "    .dataframe tbody tr th {\n",
    "        vertical-align: top;\n",
    "    }\n",
    "\n",
    "    .dataframe thead th {\n",
    "        text-align: right;\n",
    "    }\n",
    "</style>\n",
    "<table border=\"1\" class=\"dataframe\">\n",
    "  <thead>\n",
    "    <tr style=\"text-align: right;\">\n",
    "      <th></th>\n",
    "      <th>Investor_ID</th>\n",
    "      <th>Startup_ID</th>\n",
    "      <th>Global_Average</th>\n",
    "      <th>SUR1</th>\n",
    "      <th>SUR2</th>\n",
    "      <th>SUR3</th>\n",
    "      <th>SUR4</th>\n",
    "      <th>SUR5</th>\n",
    "      <th>SMR1</th>\n",
    "      <th>SMR2</th>\n",
    "      <th>SMR3</th>\n",
    "      <th>SMR4</th>\n",
    "      <th>SMR5</th>\n",
    "      <th>Investor_Average</th>\n",
    "      <th>Startup_Average</th>\n",
    "      <th>Rating</th>\n",
    "      <th>BaselineOnly</th>\n",
    "      <th>KNNBaseline_User</th>\n",
    "      <th>KNNBaseline_Item</th>\n",
    "    </tr>\n",
    "  </thead>\n",
    "  <tbody>\n",
    "    <tr>\n",
    "      <th>0</th>\n",
    "      <td>180921</td>\n",
    "      <td>4512</td>\n",
    "      <td>3.582804</td>\n",
    "      <td>3.0</td>\n",
    "      <td>2.0</td>\n",
    "      <td>1.0</td>\n",
    "      <td>2.0</td>\n",
    "      <td>1.0</td>\n",
    "      <td>4.0</td>\n",
    "      <td>3.0</td>\n",
    "      <td>4.0</td>\n",
    "      <td>2.0</td>\n",
    "      <td>2.0</td>\n",
    "      <td>2.900000</td>\n",
    "      <td>2.5</td>\n",
    "      <td>1</td>\n",
    "      <td>2.077166</td>\n",
    "      <td>1.193482</td>\n",
    "      <td>1.076235</td>\n",
    "    </tr>\n",
    "    <tr>\n",
    "      <th>1</th>\n",
    "      <td>210185</td>\n",
    "      <td>4512</td>\n",
    "      <td>3.582804</td>\n",
    "      <td>2.0</td>\n",
    "      <td>1.0</td>\n",
    "      <td>3.0</td>\n",
    "      <td>3.0</td>\n",
    "      <td>4.0</td>\n",
    "      <td>3.0</td>\n",
    "      <td>3.0</td>\n",
    "      <td>3.0</td>\n",
    "      <td>4.0</td>\n",
    "      <td>4.0</td>\n",
    "      <td>3.388889</td>\n",
    "      <td>2.5</td>\n",
    "      <td>2</td>\n",
    "      <td>2.916411</td>\n",
    "      <td>2.246199</td>\n",
    "      <td>2.014904</td>\n",
    "    </tr>\n",
    "    <tr>\n",
    "      <th>2</th>\n",
    "      <td>218038</td>\n",
    "      <td>4512</td>\n",
    "      <td>3.582804</td>\n",
    "      <td>2.0</td>\n",
    "      <td>3.0</td>\n",
    "      <td>3.0</td>\n",
    "      <td>2.0</td>\n",
    "      <td>4.0</td>\n",
    "      <td>4.0</td>\n",
    "      <td>4.0</td>\n",
    "      <td>4.0</td>\n",
    "      <td>3.0</td>\n",
    "      <td>5.0</td>\n",
    "      <td>4.250000</td>\n",
    "      <td>2.5</td>\n",
    "      <td>4</td>\n",
    "      <td>2.905264</td>\n",
    "      <td>3.727792</td>\n",
    "      <td>3.653776</td>\n",
    "    </tr>\n",
    "    <tr>\n",
    "      <th>3</th>\n",
    "      <td>221936</td>\n",
    "      <td>4512</td>\n",
    "      <td>3.582804</td>\n",
    "      <td>4.0</td>\n",
    "      <td>2.0</td>\n",
    "      <td>2.0</td>\n",
    "      <td>1.0</td>\n",
    "      <td>2.0</td>\n",
    "      <td>3.0</td>\n",
    "      <td>4.0</td>\n",
    "      <td>4.0</td>\n",
    "      <td>5.0</td>\n",
    "      <td>3.0</td>\n",
    "      <td>3.458333</td>\n",
    "      <td>2.5</td>\n",
    "      <td>3</td>\n",
    "      <td>3.290933</td>\n",
    "      <td>3.097569</td>\n",
    "      <td>2.961074</td>\n",
    "    </tr>\n",
    "    <tr>\n",
    "      <th>4</th>\n",
    "      <td>370736</td>\n",
    "      <td>4512</td>\n",
    "      <td>3.582804</td>\n",
    "      <td>2.0</td>\n",
    "      <td>4.0</td>\n",
    "      <td>1.0</td>\n",
    "      <td>2.0</td>\n",
    "      <td>2.0</td>\n",
    "      <td>4.0</td>\n",
    "      <td>4.0</td>\n",
    "      <td>4.0</td>\n",
    "      <td>4.0</td>\n",
    "      <td>5.0</td>\n",
    "      <td>4.038462</td>\n",
    "      <td>2.5</td>\n",
    "      <td>4</td>\n",
    "      <td>3.561135</td>\n",
    "      <td>3.042586</td>\n",
    "      <td>3.105870</td>\n",
    "    </tr>\n",
    "  </tbody>\n",
    "</table>\n",
    "</div>"
   ]
  },
  {
   "cell_type": "code",
   "execution_count": 74,
   "metadata": {},
   "outputs": [
    {
     "name": "stdout",
     "output_type": "stream",
     "text": [
      "Number of nan values in Test Data 0\n"
     ]
    }
   ],
   "source": [
    "print(\"Number of nan values in Test Data \"+str(Test_Reg.isnull().sum().sum()))"
   ]
  },
  {
   "cell_type": "markdown",
   "metadata": {},
   "source": [
    "## Matrix Factorization SVD "
   ]
  },
  {
   "cell_type": "markdown",
   "metadata": {},
   "source": [
    "#### Prediction $\\hat{r}_{ui}$ is set as:<br>\n",
    "\n",
    "$\\large \\hat{r}_{ui} = \\mu + b_u + b_i + q_i^Tp_u$\n",
    "- $\\pmb q_i$ - Representation of item in latent factor space\n",
    "        \n",
    "- $\\pmb p_u$ - Representation of investor in new latent factor space<br>\n",
    "\n",
    "__If investor u is unknown, then the bias $b_u$ and the factors $p_u$ are assumed to be zero. The same applies for item i with $b_i$ and $q_i$.__<br><br><br>\n",
    "\n",
    "\n",
    "#### Optimization Problem<br>\n",
    "\n",
    "$\\large \\sum_{r_{ui} \\in R_{train}} \\left(r_{ui} - \\hat{r}_{ui} \\right)^2 +\n",
    "\\lambda\\left(b_i^2 + b_u^2 + ||q_i||^2 + ||p_u||^2\\right) \\left[minimize\\; b_u, b_i, q_i, p_u \\right]$\n",
    "<br><br><br>\n",
    "\n",
    "SVD Documentation: https://surprise.readthedocs.io/en/stable/matrix_factorization.html"
   ]
  },
  {
   "cell_type": "markdown",
   "metadata": {},
   "source": [
    "#### Cross- Validation"
   ]
  },
  {
   "cell_type": "code",
   "execution_count": 90,
   "metadata": {},
   "outputs": [
    {
     "name": "stdout",
     "output_type": "stream",
     "text": [
      "0.9917179812600221\n",
      "{'n_factors': 5}\n"
     ]
    }
   ],
   "source": [
    "param_grid  = {'n_factors': [5,7,10,15,20,25,35,50,70,90]}   #here, n_factors is the equivalent to dimension 'd' when matrix 'A'\n",
    "#is broken into 'b' and 'c'. So, matrix 'A' will be of dimension n*m. So, matrices 'b' and 'c' will be of dimension n*d and m*d.\n",
    "\n",
    "gs = GridSearchCV(SVD, param_grid, measures=['rmse', 'mae'], cv=3)\n",
    "\n",
    "gs.fit(data)\n",
    "\n",
    "# best RMSE score\n",
    "print(gs.best_score['rmse'])\n",
    "\n",
    "# combination of parameters that gave the best RMSE score\n",
    "print(gs.best_params['rmse'])"
   ]
  },
  {
   "cell_type": "markdown",
   "metadata": {},
   "source": [
    "### Applying SVD with best parameters"
   ]
  },
  {
   "cell_type": "code",
   "execution_count": 91,
   "metadata": {},
   "outputs": [
    {
     "name": "stdout",
     "output_type": "stream",
     "text": [
      "Processing epoch 0\n",
      "Processing epoch 1\n",
      "Processing epoch 2\n",
      "Processing epoch 3\n",
      "Processing epoch 4\n",
      "Processing epoch 5\n",
      "Processing epoch 6\n",
      "Processing epoch 7\n",
      "Processing epoch 8\n",
      "Processing epoch 9\n",
      "Processing epoch 10\n",
      "Processing epoch 11\n",
      "Processing epoch 12\n",
      "Processing epoch 13\n",
      "Processing epoch 14\n",
      "Processing epoch 15\n",
      "Processing epoch 16\n",
      "Processing epoch 17\n",
      "Processing epoch 18\n",
      "Processing epoch 19\n",
      "--------------------------------------------------\n",
      "TRAIN DATA\n",
      "RMSE = 0.8914245646368677\n",
      "MAPE = 27.90407603935644\n",
      "--------------------------------------------------\n",
      "TEST DATA\n",
      "RMSE = 1.0676670421292496\n",
      "MAPE = 33.39888276741577\n",
      "--------------------------------------------------\n",
      "Time Taken = 0:00:00.716508\n"
     ]
    }
   ],
   "source": [
    "algo = SVD(n_factors = gs.best_params['rmse']['n_factors'], biased=True, verbose=True)\n",
    "\n",
    "train_result, test_result = run_surprise(algo, trainset, testset, \"SVD\")\n",
    "\n",
    "model_train_evaluation[\"SVD\"] = train_result\n",
    "model_test_evaluation[\"SVD\"] = test_result"
   ]
  },
  {
   "cell_type": "markdown",
   "metadata": {},
   "source": [
    "## Matrix Factorization SVDpp with implicit feedback"
   ]
  },
  {
   "cell_type": "markdown",
   "metadata": {},
   "source": [
    "#### Prediction $\\hat{r}_{ui}$ is set as:<br>\n",
    "$\\large \\hat{r}_{ui} = \\mu + b_u + b_i + q_i^T\\left(p_u +\n",
    "|I_u|^{-\\frac{1}{2}} \\sum_{j \\in I_u}y_j\\right)$<br><br>\n",
    "\n",
    " - $ \\pmb{I_u}$ --- the set of all items rated by investor u. $|I_u|$ is a length of that set.<br>\n",
    "\n",
    "-  $\\pmb{y_j}$ --- Our new set of item factors that capture implicit ratings. Here, an implicit rating describes the fact that a investoru rated an item j, regardless of the rating value. $y_i$ is an item vector. For every item j, there is an item vector $y_j$ which is an implicit feedback. Implicit feedback indirectly reflects opinion by observing investor behavior including purchase history, browsing history, search patterns, or even mouse movements. Implicit feedback usually denotes the presence or absence of an event. For example, there is a startup 10 where investor has just checked the details of the startup and spend some time there, will contribute to implicit rating. <br><br>\n",
    "\n",
    "__If investor u is unknown, then the bias $b_u$ and the factors $p_u$ are assumed to be zero. The same applies for item i with $b_i$, $q_i$ and $y_i$.__<br><br><br>\n",
    "\n",
    "#### Optimization Problem\n",
    "\n",
    "$\\large \\sum_{r_{ui} \\in R_{train}} \\left(r_{ui} - \\hat{r}_{ui} \\right)^2 +\n",
    "\\lambda\\left(b_i^2 + b_u^2 + ||q_i||^2 + ||p_u||^2 + ||y_j||^2\\right).\\left[minimize\\; b_u, b_i, q_i, p_u, y_j \\right]$<br><br>\n",
    "\n",
    "SVDpp Documentation: https://surprise.readthedocs.io/en/stable/matrix_factorization.html"
   ]
  },
  {
   "cell_type": "markdown",
   "metadata": {},
   "source": [
    "#### Cross- Validation"
   ]
  },
  {
   "cell_type": "code",
   "execution_count": 109,
   "metadata": {},
   "outputs": [
    {
     "name": "stdout",
     "output_type": "stream",
     "text": [
      "0.9912340650066573\n",
      "{'n_factors': 10, 'lr_all': 0.006}\n"
     ]
    }
   ],
   "source": [
    "param_grid = {'n_factors': [10, 30, 50, 80, 100], 'lr_all': [0.002, 0.006, 0.018, 0.054, 0.10]}\n",
    "\n",
    "gs = GridSearchCV(SVDpp, param_grid, measures=['rmse', 'mae'], cv=3)\n",
    "\n",
    "gs.fit(data)\n",
    "\n",
    "# best RMSE score\n",
    "print(gs.best_score['rmse'])\n",
    "\n",
    "# combination of parameters that gave the best RMSE score\n",
    "print(gs.best_params['rmse'])"
   ]
  },
  {
   "cell_type": "markdown",
   "metadata": {},
   "source": [
    "#### Applying SVDpp with best parameters"
   ]
  },
  {
   "cell_type": "code",
   "execution_count": 111,
   "metadata": {},
   "outputs": [
    {
     "name": "stdout",
     "output_type": "stream",
     "text": [
      " processing epoch 0\n",
      " processing epoch 1\n",
      " processing epoch 2\n",
      " processing epoch 3\n",
      " processing epoch 4\n",
      " processing epoch 5\n",
      " processing epoch 6\n",
      " processing epoch 7\n",
      " processing epoch 8\n",
      " processing epoch 9\n",
      " processing epoch 10\n",
      " processing epoch 11\n",
      " processing epoch 12\n",
      " processing epoch 13\n",
      " processing epoch 14\n",
      " processing epoch 15\n",
      " processing epoch 16\n",
      " processing epoch 17\n",
      " processing epoch 18\n",
      " processing epoch 19\n",
      "--------------------------------------------------\n",
      "TRAIN DATA\n",
      "RMSE = 0.7891759935507388\n",
      "MAPE = 24.165955103679742\n",
      "--------------------------------------------------\n",
      "TEST DATA\n",
      "RMSE = 1.0675830366748182\n",
      "MAPE = 33.396452697149705\n",
      "--------------------------------------------------\n",
      "Time Taken = 0:00:07.075453\n"
     ]
    }
   ],
   "source": [
    "algo = SVDpp(n_factors = gs.best_params['rmse']['n_factors'], lr_all = gs.best_params['rmse'][\"lr_all\"], verbose=True)\n",
    "\n",
    "train_result, test_result = run_surprise(algo, trainset, testset, \"SVDpp\")\n",
    "\n",
    "model_train_evaluation[\"SVDpp\"] = train_result\n",
    "model_test_evaluation[\"SVDpp\"] = test_result"
   ]
  },
  {
   "cell_type": "markdown",
   "metadata": {},
   "source": [
    "## XGBoost 13 Features + Surprise BaselineOnly + Surprise KNN Baseline + SVD + SVDpp"
   ]
  },
  {
   "cell_type": "code",
   "execution_count": 112,
   "metadata": {},
   "outputs": [],
   "source": [
    "Train_Reg[\"SVD\"] = model_train_evaluation[\"SVD\"][\"Prediction\"]\n",
    "Train_Reg[\"SVDpp\"] = model_train_evaluation[\"SVDpp\"][\"Prediction\"]\n",
    "\n",
    "Test_Reg[\"SVD\"] = model_test_evaluation[\"SVD\"][\"Prediction\"]\n",
    "Test_Reg[\"SVDpp\"] = model_test_evaluation[\"SVDpp\"][\"Prediction\"]"
   ]
  },
  {
   "cell_type": "code",
   "execution_count": 114,
   "metadata": {},
   "outputs": [
    {
     "name": "stdout",
     "output_type": "stream",
     "text": [
      "Number of nan values in Train Data 0\n"
     ]
    }
   ],
   "source": [
    "print(\"Number of nan values in Train Data \"+str(Train_Reg.isnull().sum().sum()))"
   ]
  },
  {
   "cell_type": "markdown",
   "metadata": {},
   "source": [
    "<div>\n",
    "<style scoped>\n",
    "    .dataframe tbody tr th:only-of-type {\n",
    "        vertical-align: middle;\n",
    "    }\n",
    "\n",
    "    .dataframe tbody tr th {\n",
    "        vertical-align: top;\n",
    "    }\n",
    "\n",
    "    .dataframe thead th {\n",
    "        text-align: right;\n",
    "    }\n",
    "</style>\n",
    "<table border=\"1\" class=\"dataframe\">\n",
    "  <thead>\n",
    "    <tr style=\"text-align: right;\">\n",
    "      <th></th>\n",
    "      <th>Investor_ID</th>\n",
    "      <th>Startup_ID</th>\n",
    "      <th>Global_Average</th>\n",
    "      <th>SUR1</th>\n",
    "      <th>SUR2</th>\n",
    "      <th>SUR3</th>\n",
    "      <th>SUR4</th>\n",
    "      <th>SUR5</th>\n",
    "      <th>SMR1</th>\n",
    "      <th>SMR2</th>\n",
    "      <th>...</th>\n",
    "      <th>SMR4</th>\n",
    "      <th>SMR5</th>\n",
    "      <th>Investor_Average</th>\n",
    "      <th>Startup_Average</th>\n",
    "      <th>Rating</th>\n",
    "      <th>BaselineOnly</th>\n",
    "      <th>KNNBaseline_User</th>\n",
    "      <th>KNNBaseline_Item</th>\n",
    "      <th>SVD</th>\n",
    "      <th>SVDpp</th>\n",
    "    </tr>\n",
    "  </thead>\n",
    "  <tbody>\n",
    "    <tr>\n",
    "      <th>0</th>\n",
    "      <td>464626</td>\n",
    "      <td>4614</td>\n",
    "      <td>3.582804</td>\n",
    "      <td>3.582804</td>\n",
    "      <td>3.582804</td>\n",
    "      <td>3.582804</td>\n",
    "      <td>3.582804</td>\n",
    "      <td>3.582804</td>\n",
    "      <td>3.582804</td>\n",
    "      <td>3.582804</td>\n",
    "      <td>...</td>\n",
    "      <td>3.582804</td>\n",
    "      <td>3.582804</td>\n",
    "      <td>3.582804</td>\n",
    "      <td>3.582804</td>\n",
    "      <td>3</td>\n",
    "      <td>3.582804</td>\n",
    "      <td>3.582804</td>\n",
    "      <td>3.582804</td>\n",
    "      <td>3.582804</td>\n",
    "      <td>3.582804</td>\n",
    "    </tr>\n",
    "    <tr>\n",
    "      <th>1</th>\n",
    "      <td>1815614</td>\n",
    "      <td>4627</td>\n",
    "      <td>3.582804</td>\n",
    "      <td>3.582804</td>\n",
    "      <td>3.582804</td>\n",
    "      <td>3.582804</td>\n",
    "      <td>3.582804</td>\n",
    "      <td>3.582804</td>\n",
    "      <td>3.582804</td>\n",
    "      <td>3.582804</td>\n",
    "      <td>...</td>\n",
    "      <td>3.582804</td>\n",
    "      <td>3.582804</td>\n",
    "      <td>3.582804</td>\n",
    "      <td>3.582804</td>\n",
    "      <td>3</td>\n",
    "      <td>3.582804</td>\n",
    "      <td>3.582804</td>\n",
    "      <td>3.582804</td>\n",
    "      <td>3.582804</td>\n",
    "      <td>3.582804</td>\n",
    "    </tr>\n",
    "    <tr>\n",
    "      <th>2</th>\n",
    "      <td>2298717</td>\n",
    "      <td>4627</td>\n",
    "      <td>3.582804</td>\n",
    "      <td>3.582804</td>\n",
    "      <td>3.582804</td>\n",
    "      <td>3.582804</td>\n",
    "      <td>3.582804</td>\n",
    "      <td>3.582804</td>\n",
    "      <td>3.582804</td>\n",
    "      <td>3.582804</td>\n",
    "      <td>...</td>\n",
    "      <td>3.582804</td>\n",
    "      <td>3.582804</td>\n",
    "      <td>3.582804</td>\n",
    "      <td>3.582804</td>\n",
    "      <td>5</td>\n",
    "      <td>3.582804</td>\n",
    "      <td>3.582804</td>\n",
    "      <td>3.582804</td>\n",
    "      <td>3.582804</td>\n",
    "      <td>3.582804</td>\n",
    "    </tr>\n",
    "    <tr>\n",
    "      <th>3</th>\n",
    "      <td>2532402</td>\n",
    "      <td>4627</td>\n",
    "      <td>3.582804</td>\n",
    "      <td>3.582804</td>\n",
    "      <td>3.582804</td>\n",
    "      <td>3.582804</td>\n",
    "      <td>3.582804</td>\n",
    "      <td>3.582804</td>\n",
    "      <td>3.582804</td>\n",
    "      <td>3.582804</td>\n",
    "      <td>...</td>\n",
    "      <td>3.582804</td>\n",
    "      <td>3.582804</td>\n",
    "      <td>3.582804</td>\n",
    "      <td>3.582804</td>\n",
    "      <td>4</td>\n",
    "      <td>3.582804</td>\n",
    "      <td>3.582804</td>\n",
    "      <td>3.582804</td>\n",
    "      <td>3.582804</td>\n",
    "      <td>3.582804</td>\n",
    "    </tr>\n",
    "    <tr>\n",
    "      <th>4</th>\n",
    "      <td>2027</td>\n",
    "      <td>4798</td>\n",
    "      <td>3.582804</td>\n",
    "      <td>3.582804</td>\n",
    "      <td>3.582804</td>\n",
    "      <td>3.582804</td>\n",
    "      <td>3.582804</td>\n",
    "      <td>3.582804</td>\n",
    "      <td>3.582804</td>\n",
    "      <td>3.582804</td>\n",
    "      <td>...</td>\n",
    "      <td>3.582804</td>\n",
    "      <td>3.582804</td>\n",
    "      <td>3.582804</td>\n",
    "      <td>3.582804</td>\n",
    "      <td>5</td>\n",
    "      <td>3.582804</td>\n",
    "      <td>3.582804</td>\n",
    "      <td>3.582804</td>\n",
    "      <td>3.582804</td>\n",
    "      <td>3.582804</td>\n",
    "    </tr>\n",
    "  </tbody>\n",
    "</table>\n",
    "<p>5 rows × 21 columns</p>\n",
    "</div>"
   ]
  },
  {
   "cell_type": "code",
   "execution_count": 116,
   "metadata": {},
   "outputs": [
    {
     "name": "stdout",
     "output_type": "stream",
     "text": [
      "Number of nan values in Test Data 0\n"
     ]
    }
   ],
   "source": [
    "print(\"Number of nan values in Test Data \"+str(Test_Reg.isnull().sum().sum()))"
   ]
  },
  {
   "cell_type": "markdown",
   "metadata": {},
   "source": [
    "## Surprise KNN Baseline + SVD + SVDpp"
   ]
  },
  {
   "cell_type": "code",
   "execution_count": 122,
   "metadata": {},
   "outputs": [
    {
     "name": "stdout",
     "output_type": "stream",
     "text": [
      "--------------------------------------------------\n",
      "TRAIN DATA\n",
      "RMSE = 1.072048298658654\n",
      "MAPE = 35.50347089767456\n",
      "--------------------------------------------------\n",
      "TEST DATA\n",
      "RMSE = 1.0704493877647514\n",
      "MAPE = 33.36904800491091\n",
      "--------------------------------------------------\n",
      "Time Taken = 0:00:00.595421\n"
     ]
    },
    {
     "data": {
      "image/png": "[encoded data removed]",
      "text/plain": [
       "<Figure size 576x432 with 1 Axes>"
      ]
     },
     "metadata": {},
     "output_type": "display_data"
    }
   ],
   "source": [
    "x_train = Train_Reg[[\"KNNBaseline_investor\", \"KNNBaseline_Item\", \"SVD\", \"SVDpp\"]]\n",
    "\n",
    "x_test = Test_Reg[[\"KNNBaseline_investor\", \"KNNBaseline_Item\", \"SVD\", \"SVDpp\"]]\n",
    "\n",
    "y_train = Train_Reg[\"Rating\"]\n",
    "\n",
    "y_test = Test_Reg[\"Rating\"]\n",
    "\n",
    "train_result, test_result = train_test_xgboost(x_train, x_test, y_train, y_test, \"XGB_KNN_MF\")\n",
    "\n",
    "model_train_evaluation[\"XGB_KNN_MF\"] = train_result\n",
    "model_test_evaluation[\"XGB_KNN_MF\"] = test_result"
   ]
  },
  {
   "cell_type": "markdown",
   "metadata": {},
   "source": [
    "## Summary"
   ]
  },
  {
   "cell_type": "code",
   "execution_count": 125,
   "metadata": {},
   "outputs": [],
   "source": [
    "error_table2 = error_table.drop([\"Train MAPE\", \"Test MAPE\"], axis = 1)"
   ]
  },
  {
   "cell_type": "code",
   "execution_count": 140,
   "metadata": {},
   "outputs": [
    {
     "data": {
      "image/png": "[encoded data removed]",
      "text/plain": [
       "<Figure size 1008x576 with 1 Axes>"
      ]
     },
     "metadata": {},
     "output_type": "display_data"
    }
   ],
   "source": [
    "error_table2.plot(x = \"Model\", kind = \"bar\", figsize = (14, 8), grid = True, fontsize = 15)\n",
    "plt.title(\"Train and Test RMSE and MAPE of all Models\", fontsize = 20)\n",
    "plt.ylabel(\"Error Values\", fontsize = 20)\n",
    "plt.legend(bbox_to_anchor=(1, 1), fontsize = 20)\n",
    "plt.show()"
   ]
  },
  {
   "cell_type": "code",
   "execution_count": 151,
   "metadata": {},
   "outputs": [
    {
     "data": {
      "text/html": [
       "<style  type=\"text/css\" >\n",
       "    #T_70b1f89c_b03d_11e8_8a1c_74867a4263dbrow4_col1 {\n",
       "            background-color:  yellow;\n",
       "        }    #T_70b1f89c_b03d_11e8_8a1c_74867a4263dbrow7_col2 {\n",
       "            background-color:  yellow;\n",
       "        }</style>  \n",
       "<table id=\"T_70b1f89c_b03d_11e8_8a1c_74867a4263db\" > \n",
       "<thead>    <tr> \n",
       "        <th class=\"blank level0\" ></th> \n",
       "        <th class=\"col_heading level0 col0\" >Model</th> \n",
       "        <th class=\"col_heading level0 col1\" >Train RMSE</th> \n",
       "        <th class=\"col_heading level0 col2\" >Test RMSE</th> \n",
       "    </tr></thead> \n",
       "<tbody>    <tr> \n",
       "        <th id=\"T_70b1f89c_b03d_11e8_8a1c_74867a4263dblevel0_row0\" class=\"row_heading level0 row0\" >0</th> \n",
       "        <td id=\"T_70b1f89c_b03d_11e8_8a1c_74867a4263dbrow0_col0\" class=\"data row0 col0\" >XGBoost_13</td> \n",
       "        <td id=\"T_70b1f89c_b03d_11e8_8a1c_74867a4263dbrow0_col1\" class=\"data row0 col1\" >0.810186</td> \n",
       "        <td id=\"T_70b1f89c_b03d_11e8_8a1c_74867a4263dbrow0_col2\" class=\"data row0 col2\" >1.06861</td> \n",
       "    </tr>    <tr> \n",
       "        <th id=\"T_70b1f89c_b03d_11e8_8a1c_74867a4263dblevel0_row1\" class=\"row_heading level0 row1\" >1</th> \n",
       "        <td id=\"T_70b1f89c_b03d_11e8_8a1c_74867a4263dbrow1_col0\" class=\"data row1 col0\" >BaselineOnly</td> \n",
       "        <td id=\"T_70b1f89c_b03d_11e8_8a1c_74867a4263dbrow1_col1\" class=\"data row1 col1\" >0.881143</td> \n",
       "        <td id=\"T_70b1f89c_b03d_11e8_8a1c_74867a4263dbrow1_col2\" class=\"data row1 col2\" >1.06784</td> \n",
       "    </tr>    <tr> \n",
       "        <th id=\"T_70b1f89c_b03d_11e8_8a1c_74867a4263dblevel0_row2\" class=\"row_heading level0 row2\" >2</th> \n",
       "        <td id=\"T_70b1f89c_b03d_11e8_8a1c_74867a4263dbrow2_col0\" class=\"data row2 col0\" >XGB_BSL</td> \n",
       "        <td id=\"T_70b1f89c_b03d_11e8_8a1c_74867a4263dbrow2_col1\" class=\"data row2 col1\" >0.809892</td> \n",
       "        <td id=\"T_70b1f89c_b03d_11e8_8a1c_74867a4263dbrow2_col2\" class=\"data row2 col2\" >1.06768</td> \n",
       "    </tr>    <tr> \n",
       "        <th id=\"T_70b1f89c_b03d_11e8_8a1c_74867a4263dblevel0_row3\" class=\"row_heading level0 row3\" >3</th> \n",
       "        <td id=\"T_70b1f89c_b03d_11e8_8a1c_74867a4263dbrow3_col0\" class=\"data row3 col0\" >KNNBaseline_User</td> \n",
       "        <td id=\"T_70b1f89c_b03d_11e8_8a1c_74867a4263dbrow3_col1\" class=\"data row3 col1\" >0.304498</td> \n",
       "        <td id=\"T_70b1f89c_b03d_11e8_8a1c_74867a4263dbrow3_col2\" class=\"data row3 col2\" >1.06765</td> \n",
       "    </tr>    <tr> \n",
       "        <th id=\"T_70b1f89c_b03d_11e8_8a1c_74867a4263dblevel0_row4\" class=\"row_heading level0 row4\" >4</th> \n",
       "        <td id=\"T_70b1f89c_b03d_11e8_8a1c_74867a4263dbrow4_col0\" class=\"data row4 col0\" >KNNBaseline_Item</td> \n",
       "        <td id=\"T_70b1f89c_b03d_11e8_8a1c_74867a4263dbrow4_col1\" class=\"data row4 col1\" >0.181882</td> \n",
       "        <td id=\"T_70b1f89c_b03d_11e8_8a1c_74867a4263dbrow4_col2\" class=\"data row4 col2\" >1.06765</td> \n",
       "    </tr>    <tr> \n",
       "        <th id=\"T_70b1f89c_b03d_11e8_8a1c_74867a4263dblevel0_row5\" class=\"row_heading level0 row5\" >5</th> \n",
       "        <td id=\"T_70b1f89c_b03d_11e8_8a1c_74867a4263dbrow5_col0\" class=\"data row5 col0\" >XGB_BSL_KNN</td> \n",
       "        <td id=\"T_70b1f89c_b03d_11e8_8a1c_74867a4263dbrow5_col1\" class=\"data row5 col1\" >0.810548</td> \n",
       "        <td id=\"T_70b1f89c_b03d_11e8_8a1c_74867a4263dbrow5_col2\" class=\"data row5 col2\" >1.06928</td> \n",
       "    </tr>    <tr> \n",
       "        <th id=\"T_70b1f89c_b03d_11e8_8a1c_74867a4263dblevel0_row6\" class=\"row_heading level0 row6\" >6</th> \n",
       "        <td id=\"T_70b1f89c_b03d_11e8_8a1c_74867a4263dbrow6_col0\" class=\"data row6 col0\" >SVD</td> \n",
       "        <td id=\"T_70b1f89c_b03d_11e8_8a1c_74867a4263dbrow6_col1\" class=\"data row6 col1\" >0.891425</td> \n",
       "        <td id=\"T_70b1f89c_b03d_11e8_8a1c_74867a4263dbrow6_col2\" class=\"data row6 col2\" >1.06767</td> \n",
       "    </tr>    <tr> \n",
       "        <th id=\"T_70b1f89c_b03d_11e8_8a1c_74867a4263dblevel0_row7\" class=\"row_heading level0 row7\" >7</th> \n",
       "        <td id=\"T_70b1f89c_b03d_11e8_8a1c_74867a4263dbrow7_col0\" class=\"data row7 col0\" >SVDpp</td> \n",
       "        <td id=\"T_70b1f89c_b03d_11e8_8a1c_74867a4263dbrow7_col1\" class=\"data row7 col1\" >0.789176</td> \n",
       "        <td id=\"T_70b1f89c_b03d_11e8_8a1c_74867a4263dbrow7_col2\" class=\"data row7 col2\" >1.06758</td> \n",
       "    </tr>    <tr> \n",
       "        <th id=\"T_70b1f89c_b03d_11e8_8a1c_74867a4263dblevel0_row8\" class=\"row_heading level0 row8\" >8</th> \n",
       "        <td id=\"T_70b1f89c_b03d_11e8_8a1c_74867a4263dbrow8_col0\" class=\"data row8 col0\" >XGB_BSL_KNN_MF</td> \n",
       "        <td id=\"T_70b1f89c_b03d_11e8_8a1c_74867a4263dbrow8_col1\" class=\"data row8 col1\" >0.809967</td> \n",
       "        <td id=\"T_70b1f89c_b03d_11e8_8a1c_74867a4263dbrow8_col2\" class=\"data row8 col2\" >1.06943</td> \n",
       "    </tr>    <tr> \n",
       "        <th id=\"T_70b1f89c_b03d_11e8_8a1c_74867a4263dblevel0_row9\" class=\"row_heading level0 row9\" >9</th> \n",
       "        <td id=\"T_70b1f89c_b03d_11e8_8a1c_74867a4263dbrow9_col0\" class=\"data row9 col0\" >XGB_KNN_MF</td> \n",
       "        <td id=\"T_70b1f89c_b03d_11e8_8a1c_74867a4263dbrow9_col1\" class=\"data row9 col1\" >1.07205</td> \n",
       "        <td id=\"T_70b1f89c_b03d_11e8_8a1c_74867a4263dbrow9_col2\" class=\"data row9 col2\" >1.07045</td> \n",
       "    </tr></tbody> \n",
       "</table> "
      ],
      "text/plain": [
       "<pandas.io.formats.style.Styler at 0x2400453828>"
      ]
     },
     "execution_count": 151,
     "metadata": {},
     "output_type": "execute_result"
    }
   ],
   "source": [
    "error_table.drop([\"Train MAPE\", \"Test MAPE\"], axis = 1).style.highlight_min(axis=0)"
   ]
  },
  {
   "cell_type": "markdown",
   "metadata": {},
   "source": [
    "# So, far our best model is SVDpp with Test RMSE of 1.067583\n",
    "\n",
    "<p> To conclude this model is working as expected and will be used for the reccomendation model for Seedswipe. I encourage you to test the model on different datasets and make improvements to the model. If you want to reproduce the results the Crunchbase API can be found at: https://data.crunchbase.com/docs/using-the-api </p>"
   ]
  }
 ],
 "metadata": {
  "kernelspec": {
   "display_name": "Python 3",
   "language": "python",
   "name": "python3"
  },
  "language_info": {
   "codemirror_mode": {
    "name": "ipython",
    "version": 3
   },
   "file_extension": ".py",
   "mimetype": "text/x-python",
   "name": "python",
   "nbconvert_exporter": "python",
   "pygments_lexer": "ipython3",
   "version": "3.6.5"
  }
 },
 "nbformat": 4,
 "nbformat_minor": 2
}
